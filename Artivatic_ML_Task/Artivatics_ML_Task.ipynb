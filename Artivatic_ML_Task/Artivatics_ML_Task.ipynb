{
  "nbformat": 4,
  "nbformat_minor": 0,
  "metadata": {
    "colab": {
      "name": "ML_Artivatics(2).ipynb",
      "provenance": [],
      "collapsed_sections": []
    },
    "kernelspec": {
      "display_name": "Python 3",
      "name": "python3"
    }
  },
  "cells": [
    {
      "cell_type": "code",
      "metadata": {
        "id": "ELjVOiMMI-7g"
      },
      "source": [
        "# Importing libaries \n",
        "import pandas as pd \n",
        "import matplotlib.pyplot as plt\n",
        "import matplotlib as mpl\n",
        "import seaborn as sns\n",
        "import numpy as np\n",
        "\n",
        "# Plotting options\n",
        "%matplotlib inline\n",
        "mpl.style.use('ggplot')\n",
        "sns.set(style='whitegrid')\n",
        "\n",
        "# scaling and train test split\n",
        "from sklearn.model_selection import train_test_split\n",
        "from sklearn.preprocessing import MinMaxScaler\n",
        "\n",
        "#statistical Tools\n",
        "from sklearn.metrics import roc_auc_score,accuracy_score,precision_score,recall_score,f1_score\n",
        "from sklearn.metrics import confusion_matrix, roc_curve, auc\n",
        "\n",
        "\n",
        "\n",
        " "
      ],
      "execution_count": null,
      "outputs": []
    },
    {
      "cell_type": "code",
      "metadata": {
        "id": "CdQBNcjDJJxn"
      },
      "source": [
        "train=pd.read_csv('/content/drive/MyDrive/Data Science/ML_Artivatic_dataset/ML_Artivatic_dataset/train_indessa.csv')\n",
        "test=pd.read_csv('/content/drive/MyDrive/Data Science/ML_Artivatic_dataset/ML_Artivatic_dataset/test_indessa.csv')\n",
        "train1=train.copy()"
      ],
      "execution_count": null,
      "outputs": []
    },
    {
      "cell_type": "code",
      "metadata": {
        "colab": {
          "base_uri": "https://localhost:8080/"
        },
        "id": "gYeN8JPgbBxG",
        "outputId": "913869ec-5cfa-462d-b66b-897929dfa5ab"
      },
      "source": [
        "train1.shape"
      ],
      "execution_count": null,
      "outputs": [
        {
          "output_type": "execute_result",
          "data": {
            "text/plain": [
              "(532428, 45)"
            ]
          },
          "metadata": {
            "tags": []
          },
          "execution_count": 3
        }
      ]
    },
    {
      "cell_type": "markdown",
      "metadata": {
        "id": "lIG1Zis7P_6p"
      },
      "source": [
        "Response Variable: going to predict the loan_status variable, what are the value counts for this variable?\n",
        "\n"
      ]
    },
    {
      "cell_type": "code",
      "metadata": {
        "colab": {
          "base_uri": "https://localhost:8080/"
        },
        "id": "xXpAWqWNQIYc",
        "outputId": "a4fb6e6f-dbd2-4ce6-f12d-a8d1ff41d7e5"
      },
      "source": [
        "train['loan_status'].value_counts(normalize=True, dropna=False)"
      ],
      "execution_count": null,
      "outputs": [
        {
          "output_type": "execute_result",
          "data": {
            "text/plain": [
              "0    0.763673\n",
              "1    0.236327\n",
              "Name: loan_status, dtype: float64"
            ]
          },
          "metadata": {
            "tags": []
          },
          "execution_count": 4
        }
      ]
    },
    {
      "cell_type": "markdown",
      "metadata": {
        "id": "oAUXZe9cQVD7"
      },
      "source": [
        "About 76% of the remaining loans have been Non-Defaulters nad 23% have Defaulters,So have a somewhat unbalanced classification problem."
      ]
    },
    {
      "cell_type": "code",
      "metadata": {
        "colab": {
          "base_uri": "https://localhost:8080/",
          "height": 462
        },
        "id": "Wz0s-cXIJgjd",
        "outputId": "bc51864b-a7dd-4616-b6ad-3b910ff0b184"
      },
      "source": [
        "# combining the train and test dataset for EDA\n",
        "loan_status=train.loan_status\n",
        "train.drop('loan_status',axis=1,inplace=True)\n",
        "member_id=test.member_id\n",
        "data=train.append(test)\n",
        "data.head()"
      ],
      "execution_count": null,
      "outputs": [
        {
          "output_type": "execute_result",
          "data": {
            "text/html": [
              "<div>\n",
              "<style scoped>\n",
              "    .dataframe tbody tr th:only-of-type {\n",
              "        vertical-align: middle;\n",
              "    }\n",
              "\n",
              "    .dataframe tbody tr th {\n",
              "        vertical-align: top;\n",
              "    }\n",
              "\n",
              "    .dataframe thead th {\n",
              "        text-align: right;\n",
              "    }\n",
              "</style>\n",
              "<table border=\"1\" class=\"dataframe\">\n",
              "  <thead>\n",
              "    <tr style=\"text-align: right;\">\n",
              "      <th></th>\n",
              "      <th>member_id</th>\n",
              "      <th>loan_amnt</th>\n",
              "      <th>funded_amnt</th>\n",
              "      <th>funded_amnt_inv</th>\n",
              "      <th>term</th>\n",
              "      <th>batch_enrolled</th>\n",
              "      <th>int_rate</th>\n",
              "      <th>grade</th>\n",
              "      <th>sub_grade</th>\n",
              "      <th>emp_title</th>\n",
              "      <th>emp_length</th>\n",
              "      <th>home_ownership</th>\n",
              "      <th>annual_inc</th>\n",
              "      <th>verification_status</th>\n",
              "      <th>pymnt_plan</th>\n",
              "      <th>desc</th>\n",
              "      <th>purpose</th>\n",
              "      <th>title</th>\n",
              "      <th>zip_code</th>\n",
              "      <th>addr_state</th>\n",
              "      <th>dti</th>\n",
              "      <th>delinq_2yrs</th>\n",
              "      <th>inq_last_6mths</th>\n",
              "      <th>mths_since_last_delinq</th>\n",
              "      <th>mths_since_last_record</th>\n",
              "      <th>open_acc</th>\n",
              "      <th>pub_rec</th>\n",
              "      <th>revol_bal</th>\n",
              "      <th>revol_util</th>\n",
              "      <th>total_acc</th>\n",
              "      <th>initial_list_status</th>\n",
              "      <th>total_rec_int</th>\n",
              "      <th>total_rec_late_fee</th>\n",
              "      <th>recoveries</th>\n",
              "      <th>collection_recovery_fee</th>\n",
              "      <th>collections_12_mths_ex_med</th>\n",
              "      <th>mths_since_last_major_derog</th>\n",
              "      <th>application_type</th>\n",
              "      <th>verification_status_joint</th>\n",
              "      <th>last_week_pay</th>\n",
              "      <th>acc_now_delinq</th>\n",
              "      <th>tot_coll_amt</th>\n",
              "      <th>tot_cur_bal</th>\n",
              "      <th>total_rev_hi_lim</th>\n",
              "    </tr>\n",
              "  </thead>\n",
              "  <tbody>\n",
              "    <tr>\n",
              "      <th>0</th>\n",
              "      <td>58189336</td>\n",
              "      <td>14350</td>\n",
              "      <td>14350</td>\n",
              "      <td>14350.0</td>\n",
              "      <td>36 months</td>\n",
              "      <td></td>\n",
              "      <td>19.19</td>\n",
              "      <td>E</td>\n",
              "      <td>E3</td>\n",
              "      <td>clerk</td>\n",
              "      <td>9 years</td>\n",
              "      <td>OWN</td>\n",
              "      <td>28700.0</td>\n",
              "      <td>Source Verified</td>\n",
              "      <td>n</td>\n",
              "      <td>NaN</td>\n",
              "      <td>debt_consolidation</td>\n",
              "      <td>Debt consolidation</td>\n",
              "      <td>349xx</td>\n",
              "      <td>FL</td>\n",
              "      <td>33.88</td>\n",
              "      <td>0.0</td>\n",
              "      <td>1.0</td>\n",
              "      <td>50.0</td>\n",
              "      <td>75.0</td>\n",
              "      <td>14.0</td>\n",
              "      <td>1.0</td>\n",
              "      <td>22515.0</td>\n",
              "      <td>73.1</td>\n",
              "      <td>28.0</td>\n",
              "      <td>f</td>\n",
              "      <td>1173.84</td>\n",
              "      <td>0.0</td>\n",
              "      <td>0.0</td>\n",
              "      <td>0.0</td>\n",
              "      <td>0.0</td>\n",
              "      <td>74.0</td>\n",
              "      <td>INDIVIDUAL</td>\n",
              "      <td>NaN</td>\n",
              "      <td>26th week</td>\n",
              "      <td>0.0</td>\n",
              "      <td>0.0</td>\n",
              "      <td>28699.0</td>\n",
              "      <td>30800.0</td>\n",
              "    </tr>\n",
              "    <tr>\n",
              "      <th>1</th>\n",
              "      <td>70011223</td>\n",
              "      <td>4800</td>\n",
              "      <td>4800</td>\n",
              "      <td>4800.0</td>\n",
              "      <td>36 months</td>\n",
              "      <td>BAT1586599</td>\n",
              "      <td>10.99</td>\n",
              "      <td>B</td>\n",
              "      <td>B4</td>\n",
              "      <td>Human Resources Specialist</td>\n",
              "      <td>&lt; 1 year</td>\n",
              "      <td>MORTGAGE</td>\n",
              "      <td>65000.0</td>\n",
              "      <td>Source Verified</td>\n",
              "      <td>n</td>\n",
              "      <td>NaN</td>\n",
              "      <td>home_improvement</td>\n",
              "      <td>Home improvement</td>\n",
              "      <td>209xx</td>\n",
              "      <td>MD</td>\n",
              "      <td>3.64</td>\n",
              "      <td>0.0</td>\n",
              "      <td>1.0</td>\n",
              "      <td>NaN</td>\n",
              "      <td>NaN</td>\n",
              "      <td>6.0</td>\n",
              "      <td>0.0</td>\n",
              "      <td>7624.0</td>\n",
              "      <td>23.2</td>\n",
              "      <td>13.0</td>\n",
              "      <td>w</td>\n",
              "      <td>83.95</td>\n",
              "      <td>0.0</td>\n",
              "      <td>0.0</td>\n",
              "      <td>0.0</td>\n",
              "      <td>0.0</td>\n",
              "      <td>NaN</td>\n",
              "      <td>INDIVIDUAL</td>\n",
              "      <td>NaN</td>\n",
              "      <td>9th week</td>\n",
              "      <td>0.0</td>\n",
              "      <td>0.0</td>\n",
              "      <td>9974.0</td>\n",
              "      <td>32900.0</td>\n",
              "    </tr>\n",
              "    <tr>\n",
              "      <th>2</th>\n",
              "      <td>70255675</td>\n",
              "      <td>10000</td>\n",
              "      <td>10000</td>\n",
              "      <td>10000.0</td>\n",
              "      <td>36 months</td>\n",
              "      <td>BAT1586599</td>\n",
              "      <td>7.26</td>\n",
              "      <td>A</td>\n",
              "      <td>A4</td>\n",
              "      <td>Driver</td>\n",
              "      <td>2 years</td>\n",
              "      <td>OWN</td>\n",
              "      <td>45000.0</td>\n",
              "      <td>Not Verified</td>\n",
              "      <td>n</td>\n",
              "      <td>NaN</td>\n",
              "      <td>debt_consolidation</td>\n",
              "      <td>Debt consolidation</td>\n",
              "      <td>447xx</td>\n",
              "      <td>OH</td>\n",
              "      <td>18.42</td>\n",
              "      <td>0.0</td>\n",
              "      <td>0.0</td>\n",
              "      <td>NaN</td>\n",
              "      <td>NaN</td>\n",
              "      <td>5.0</td>\n",
              "      <td>0.0</td>\n",
              "      <td>10877.0</td>\n",
              "      <td>31.2</td>\n",
              "      <td>19.0</td>\n",
              "      <td>w</td>\n",
              "      <td>56.47</td>\n",
              "      <td>0.0</td>\n",
              "      <td>0.0</td>\n",
              "      <td>0.0</td>\n",
              "      <td>0.0</td>\n",
              "      <td>NaN</td>\n",
              "      <td>INDIVIDUAL</td>\n",
              "      <td>NaN</td>\n",
              "      <td>9th week</td>\n",
              "      <td>0.0</td>\n",
              "      <td>65.0</td>\n",
              "      <td>38295.0</td>\n",
              "      <td>34900.0</td>\n",
              "    </tr>\n",
              "    <tr>\n",
              "      <th>3</th>\n",
              "      <td>1893936</td>\n",
              "      <td>15000</td>\n",
              "      <td>15000</td>\n",
              "      <td>15000.0</td>\n",
              "      <td>36 months</td>\n",
              "      <td>BAT4808022</td>\n",
              "      <td>19.72</td>\n",
              "      <td>D</td>\n",
              "      <td>D5</td>\n",
              "      <td>Us office of Personnel Management</td>\n",
              "      <td>10+ years</td>\n",
              "      <td>RENT</td>\n",
              "      <td>105000.0</td>\n",
              "      <td>Not Verified</td>\n",
              "      <td>n</td>\n",
              "      <td>&gt; My goal is to obtain a loan to pay off my hi...</td>\n",
              "      <td>debt_consolidation</td>\n",
              "      <td>Debt consolidation</td>\n",
              "      <td>221xx</td>\n",
              "      <td>VA</td>\n",
              "      <td>14.97</td>\n",
              "      <td>0.0</td>\n",
              "      <td>2.0</td>\n",
              "      <td>46.0</td>\n",
              "      <td>NaN</td>\n",
              "      <td>10.0</td>\n",
              "      <td>0.0</td>\n",
              "      <td>13712.0</td>\n",
              "      <td>55.5</td>\n",
              "      <td>21.0</td>\n",
              "      <td>f</td>\n",
              "      <td>4858.62</td>\n",
              "      <td>0.0</td>\n",
              "      <td>0.0</td>\n",
              "      <td>0.0</td>\n",
              "      <td>0.0</td>\n",
              "      <td>NaN</td>\n",
              "      <td>INDIVIDUAL</td>\n",
              "      <td>NaN</td>\n",
              "      <td>135th week</td>\n",
              "      <td>0.0</td>\n",
              "      <td>0.0</td>\n",
              "      <td>55564.0</td>\n",
              "      <td>24700.0</td>\n",
              "    </tr>\n",
              "    <tr>\n",
              "      <th>4</th>\n",
              "      <td>7652106</td>\n",
              "      <td>16000</td>\n",
              "      <td>16000</td>\n",
              "      <td>16000.0</td>\n",
              "      <td>36 months</td>\n",
              "      <td>BAT2833642</td>\n",
              "      <td>10.64</td>\n",
              "      <td>B</td>\n",
              "      <td>B2</td>\n",
              "      <td>LAUSD-HOLLYWOOD HIGH SCHOOL</td>\n",
              "      <td>10+ years</td>\n",
              "      <td>RENT</td>\n",
              "      <td>52000.0</td>\n",
              "      <td>Verified</td>\n",
              "      <td>n</td>\n",
              "      <td>NaN</td>\n",
              "      <td>credit_card</td>\n",
              "      <td>refi</td>\n",
              "      <td>900xx</td>\n",
              "      <td>CA</td>\n",
              "      <td>20.16</td>\n",
              "      <td>0.0</td>\n",
              "      <td>0.0</td>\n",
              "      <td>NaN</td>\n",
              "      <td>NaN</td>\n",
              "      <td>11.0</td>\n",
              "      <td>0.0</td>\n",
              "      <td>35835.0</td>\n",
              "      <td>76.2</td>\n",
              "      <td>27.0</td>\n",
              "      <td>w</td>\n",
              "      <td>2296.41</td>\n",
              "      <td>0.0</td>\n",
              "      <td>0.0</td>\n",
              "      <td>0.0</td>\n",
              "      <td>0.0</td>\n",
              "      <td>NaN</td>\n",
              "      <td>INDIVIDUAL</td>\n",
              "      <td>NaN</td>\n",
              "      <td>96th week</td>\n",
              "      <td>0.0</td>\n",
              "      <td>0.0</td>\n",
              "      <td>47159.0</td>\n",
              "      <td>47033.0</td>\n",
              "    </tr>\n",
              "  </tbody>\n",
              "</table>\n",
              "</div>"
            ],
            "text/plain": [
              "   member_id  loan_amnt  ...  tot_cur_bal  total_rev_hi_lim\n",
              "0   58189336      14350  ...      28699.0           30800.0\n",
              "1   70011223       4800  ...       9974.0           32900.0\n",
              "2   70255675      10000  ...      38295.0           34900.0\n",
              "3    1893936      15000  ...      55564.0           24700.0\n",
              "4    7652106      16000  ...      47159.0           47033.0\n",
              "\n",
              "[5 rows x 44 columns]"
            ]
          },
          "metadata": {
            "tags": []
          },
          "execution_count": 5
        }
      ]
    },
    {
      "cell_type": "code",
      "metadata": {
        "id": "u05JL_PzOYN5"
      },
      "source": [
        "# data.describe()\n",
        " "
      ],
      "execution_count": null,
      "outputs": []
    },
    {
      "cell_type": "markdown",
      "metadata": {
        "id": "rbelYcBiQZY4"
      },
      "source": [
        "Limit the Featue Space\n",
        "\n",
        "1.   Drop features with more than 30% of their data missing.\n",
        "2.   Of the remaining features, choose only those that would be available to an investor before deciding to fund the loan.\n",
        "\n"
      ]
    },
    {
      "cell_type": "code",
      "metadata": {
        "id": "LEsUekH0PeKY"
      },
      "source": [
        "# Drop features missing more than 30% data\n",
        "# calculating the % of missing data for each features\n",
        "\n",
        "missing_features=data.isnull().mean().sort_values(ascending=False)"
      ],
      "execution_count": null,
      "outputs": []
    },
    {
      "cell_type": "code",
      "metadata": {
        "colab": {
          "base_uri": "https://localhost:8080/"
        },
        "id": "vH163nYRQlcY",
        "outputId": "873cbe2e-7050-4bf9-befd-7d21f84d5d98"
      },
      "source": [
        "missing_features.head(10)"
      ],
      "execution_count": null,
      "outputs": [
        {
          "output_type": "execute_result",
          "data": {
            "text/plain": [
              "verification_status_joint      0.999424\n",
              "desc                           0.858257\n",
              "mths_since_last_record         0.845553\n",
              "mths_since_last_major_derog    0.750160\n",
              "mths_since_last_delinq         0.511971\n",
              "batch_enrolled                 0.147342\n",
              "total_rev_hi_lim               0.079195\n",
              "tot_coll_amt                   0.079195\n",
              "tot_cur_bal                    0.079195\n",
              "emp_title                      0.057993\n",
              "dtype: float64"
            ]
          },
          "metadata": {
            "tags": []
          },
          "execution_count": 8
        }
      ]
    },
    {
      "cell_type": "code",
      "metadata": {
        "colab": {
          "base_uri": "https://localhost:8080/",
          "height": 321
        },
        "id": "Y4HwZdajQnP9",
        "outputId": "1de90782-3a8f-4034-b815-86dd5c7a135b"
      },
      "source": [
        "#let's visualize the distribution of missing data %\n",
        "\n",
        "plt.figure(figsize=(6,3),dpi=90)\n",
        "missing_features.plot.hist(bins=20)\n",
        "plt.title('histogram of feature incompleteness')\n",
        "plt.xlabel('feature missing data')\n",
        "plt.ylabel('feature count')"
      ],
      "execution_count": null,
      "outputs": [
        {
          "output_type": "execute_result",
          "data": {
            "text/plain": [
              "Text(0, 0.5, 'feature count')"
            ]
          },
          "metadata": {
            "tags": []
          },
          "execution_count": 9
        },
        {
          "output_type": "display_data",
          "data": {
            "image/png": "[encoded data removed]",
            "text/plain": [
              "<Figure size 540x270 with 1 Axes>"
            ]
          },
          "metadata": {
            "tags": [],
            "needs_background": "light"
          }
        }
      ]
    },
    {
      "cell_type": "markdown",
      "metadata": {
        "id": "XG8kNQwBQrP6"
      },
      "source": [
        "From the above histogram,few geatures have more than 30% of missing data, Because it's generally very difficult to accurately impute data with more than 30% missing values,drop such columns"
      ]
    },
    {
      "cell_type": "code",
      "metadata": {
        "colab": {
          "base_uri": "https://localhost:8080/"
        },
        "id": "Ow_P4vncQpqT",
        "outputId": "a132b5b6-83d1-4fbf-aeab-b57374bfaf69"
      },
      "source": [
        "drop_list=sorted(list(missing_features[missing_features > 0.3].index))\n",
        "print(drop_list)"
      ],
      "execution_count": null,
      "outputs": [
        {
          "output_type": "stream",
          "text": [
            "['desc', 'mths_since_last_delinq', 'mths_since_last_major_derog', 'mths_since_last_record', 'verification_status_joint']\n"
          ],
          "name": "stdout"
        }
      ]
    },
    {
      "cell_type": "code",
      "metadata": {
        "colab": {
          "base_uri": "https://localhost:8080/"
        },
        "id": "1_AeanR8Qu-7",
        "outputId": "98a21766-8d75-40cd-f354-a2f1af0d2bd1"
      },
      "source": [
        "data.drop(labels=drop_list, axis=1, inplace=True)\n",
        "data.shape"
      ],
      "execution_count": null,
      "outputs": [
        {
          "output_type": "execute_result",
          "data": {
            "text/plain": [
              "(887379, 39)"
            ]
          },
          "metadata": {
            "tags": []
          },
          "execution_count": 11
        }
      ]
    },
    {
      "cell_type": "code",
      "metadata": {
        "id": "fJap2z10Qyqk"
      },
      "source": [
        "keep_list = ['member_id','addr_state', 'annual_inc', 'application_type', 'dti', 'earliest_cr_line', 'emp_length', 'emp_title', 'fico_range_high', 'fico_range_low', 'grade', 'home_ownership', 'id', 'initial_list_status', 'installment', 'int_rate', 'issue_d', 'loan_amnt', 'loan_status', 'mort_acc', 'open_acc', 'pub_rec', 'pub_rec_bankruptcies', 'purpose', 'revol_bal', 'revol_util', 'sub_grade', 'term', 'title', 'total_acc', 'verification_status', 'zip_code']"
      ],
      "execution_count": null,
      "outputs": []
    },
    {
      "cell_type": "code",
      "metadata": {
        "colab": {
          "base_uri": "https://localhost:8080/"
        },
        "id": "5_ov-NfmQ_0f",
        "outputId": "cc8729e0-19d0-4105-a240-08414fd25e5c"
      },
      "source": [
        "# list of features to drop is any features n keep_list ;\n",
        "drop_list=[col for col in data.columns if col not in keep_list]\n",
        "print(drop_list)"
      ],
      "execution_count": null,
      "outputs": [
        {
          "output_type": "stream",
          "text": [
            "['funded_amnt', 'funded_amnt_inv', 'batch_enrolled', 'pymnt_plan', 'delinq_2yrs', 'inq_last_6mths', 'total_rec_int', 'total_rec_late_fee', 'recoveries', 'collection_recovery_fee', 'collections_12_mths_ex_med', 'last_week_pay', 'acc_now_delinq', 'tot_coll_amt', 'tot_cur_bal', 'total_rev_hi_lim']\n"
          ],
          "name": "stdout"
        }
      ]
    },
    {
      "cell_type": "code",
      "metadata": {
        "colab": {
          "base_uri": "https://localhost:8080/"
        },
        "id": "YGWb_sXDRDTu",
        "outputId": "bbdc461f-9b2c-4aa3-c41e-35b55f08b0a9"
      },
      "source": [
        "len(drop_list)"
      ],
      "execution_count": null,
      "outputs": [
        {
          "output_type": "execute_result",
          "data": {
            "text/plain": [
              "16"
            ]
          },
          "metadata": {
            "tags": []
          },
          "execution_count": 14
        }
      ]
    },
    {
      "cell_type": "code",
      "metadata": {
        "id": "fnE-56BPRJxo"
      },
      "source": [
        "#drop these features    \n",
        "data.drop(labels=drop_list,axis=1,inplace=True)"
      ],
      "execution_count": null,
      "outputs": []
    },
    {
      "cell_type": "markdown",
      "metadata": {
        "id": "8IMo1_53RQ8F"
      },
      "source": [
        "# Pre-processing and Exploratory Analysis\n",
        "\n",
        "\n",
        "1.   Drop the feature if it is not useful for predicting the loan status.\n",
        "2.  View summary statistics and visualize the data, plotting against the loan status.\n",
        "3.   Modify the feature to make it useful for modeling, if necessary.\n",
        "\n",
        "\n",
        "\n"
      ]
    },
    {
      "cell_type": "code",
      "metadata": {
        "id": "vWvtzRb4RPGr"
      },
      "source": [
        "def plot_var(col_name, full_name, continuous):\n",
        "    \"\"\"\n",
        "    Visualize a variable with and without faceting on the loan status.\n",
        "    - col_name is the variable name in the dataframe\n",
        "    - full_name is the full variable name\n",
        "    - continuous is True if the variable is continuous, False otherwise\n",
        "    \"\"\"\n",
        "    f, (ax1, ax2) = plt.subplots(nrows=1, ncols=2, figsize=(12,3), dpi=90)\n",
        "    \n",
        "    # Plot without loan status\n",
        "    if continuous:\n",
        "        sns.distplot(train1.loc[train1[col_name].notnull(), col_name], kde=False, ax=ax1)\n",
        "    else:\n",
        "        sns.countplot(train1[col_name], order=sorted(train1[col_name].unique()), color='#5975A4', saturation=1, ax=ax1)\n",
        "    ax1.set_xlabel(full_name)\n",
        "    ax1.set_ylabel('Count')\n",
        "    ax1.set_title(full_name)\n",
        "\n",
        "    # Plot with loan status\n",
        "    if continuous:\n",
        "        sns.boxplot(x=col_name, y='loan_status', data=train1, ax=ax2)\n",
        "        ax2.set_ylabel('')\n",
        "        ax2.set_title(full_name + ' by Loan Status')\n",
        "    else:\n",
        "        charge_off_rates = train1.groupby(col_name)['loan_status'].value_counts(normalize=True).loc[:,'Charged Off']\n",
        "        sns.barplot(x=charge_off_rates.index, y=charge_off_rates.values, color='#5975A4', saturation=1, ax=ax2)\n",
        "        ax2.set_ylabel('Fraction of Loans Charged-off')\n",
        "        ax2.set_title('Charge-off Rate by ' + full_name)\n",
        "    ax2.set_xlabel(full_name)\n",
        "    \n",
        "    plt.tight_layout()"
      ],
      "execution_count": null,
      "outputs": []
    },
    {
      "cell_type": "code",
      "metadata": {
        "colab": {
          "base_uri": "https://localhost:8080/"
        },
        "id": "noiSWJj6RmAH",
        "outputId": "5ee1b7ae-11eb-4880-bff0-dc3096ef98e0"
      },
      "source": [
        "print(list(data.columns))"
      ],
      "execution_count": null,
      "outputs": [
        {
          "output_type": "stream",
          "text": [
            "['member_id', 'loan_amnt', 'term', 'int_rate', 'grade', 'sub_grade', 'emp_title', 'emp_length', 'home_ownership', 'annual_inc', 'verification_status', 'purpose', 'title', 'zip_code', 'addr_state', 'dti', 'open_acc', 'pub_rec', 'revol_bal', 'revol_util', 'total_acc', 'initial_list_status', 'application_type']\n"
          ],
          "name": "stdout"
        }
      ]
    },
    {
      "cell_type": "code",
      "metadata": {
        "colab": {
          "base_uri": "https://localhost:8080/"
        },
        "id": "xLTmzgfBRpOO",
        "outputId": "321a02af-4685-4bb0-dedb-8c0420286500"
      },
      "source": [
        "# member_id\n",
        "data['member_id'].sample(5)"
      ],
      "execution_count": null,
      "outputs": [
        {
          "output_type": "execute_result",
          "data": {
            "text/plain": [
              "347122     1040804\n",
              "215484    21309918\n",
              "92989     55386666\n",
              "22284     27108622\n",
              "248050    16190066\n",
              "Name: member_id, dtype: int64"
            ]
          },
          "metadata": {
            "tags": []
          },
          "execution_count": 18
        }
      ]
    },
    {
      "cell_type": "code",
      "metadata": {
        "colab": {
          "base_uri": "https://localhost:8080/"
        },
        "id": "-k3C6602RtCo",
        "outputId": "6196c244-6090-468d-eba0-65dba3c2055a"
      },
      "source": [
        "data['member_id'].describe()"
      ],
      "execution_count": null,
      "outputs": [
        {
          "output_type": "execute_result",
          "data": {
            "text/plain": [
              "count    8.873790e+05\n",
              "mean     3.500182e+07\n",
              "std      2.411335e+07\n",
              "min      7.047300e+04\n",
              "25%      1.087713e+07\n",
              "50%      3.709528e+07\n",
              "75%      5.847135e+07\n",
              "max      7.354484e+07\n",
              "Name: member_id, dtype: float64"
            ]
          },
          "metadata": {
            "tags": []
          },
          "execution_count": 19
        }
      ]
    },
    {
      "cell_type": "markdown",
      "metadata": {
        "id": "xwB6-Hg5Rzth"
      },
      "source": [
        "they are all unique. The memeber_id is not useful for modeling, either as a categorical variable (there are too many distinct values) or as a numerical variable (the IDs vary wildly in magnitude, likely without any significance),droping this variable."
      ]
    },
    {
      "cell_type": "code",
      "metadata": {
        "id": "cZXUW5nSRv58"
      },
      "source": [
        "data.drop('member_id', axis=1, inplace=True)"
      ],
      "execution_count": null,
      "outputs": []
    },
    {
      "cell_type": "code",
      "metadata": {
        "colab": {
          "base_uri": "https://localhost:8080/"
        },
        "id": "GhCYy66RR2zB",
        "outputId": "6869a979-bd57-49fd-c74a-06357ba60029"
      },
      "source": [
        "#loan_amnt\n",
        "data['loan_amnt'].describe()"
      ],
      "execution_count": null,
      "outputs": [
        {
          "output_type": "execute_result",
          "data": {
            "text/plain": [
              "count    887379.000000\n",
              "mean      14755.264605\n",
              "std        8435.455601\n",
              "min         500.000000\n",
              "25%        8000.000000\n",
              "50%       13000.000000\n",
              "75%       20000.000000\n",
              "max       35000.000000\n",
              "Name: loan_amnt, dtype: float64"
            ]
          },
          "metadata": {
            "tags": []
          },
          "execution_count": 21
        }
      ]
    },
    {
      "cell_type": "markdown",
      "metadata": {
        "id": "6dGV6Ua_R9ua"
      },
      "source": [
        "Loan amounts range from \\$500 to \\$35,000, with a median of \\$13,000."
      ]
    },
    {
      "cell_type": "code",
      "metadata": {
        "id": "TunlMLbAWMQ0"
      },
      "source": [
        "# plot_var('loan_amnt', 'Loan Amount', continuous=True)"
      ],
      "execution_count": 120,
      "outputs": []
    },
    {
      "cell_type": "code",
      "metadata": {
        "colab": {
          "base_uri": "https://localhost:8080/",
          "height": 142
        },
        "id": "Yc6vL1K-WUWv",
        "outputId": "4e4303aa-b2b1-4069-fb8b-4ec0b9e95727"
      },
      "source": [
        "train1.groupby('loan_status')['loan_amnt'].describe()"
      ],
      "execution_count": null,
      "outputs": [
        {
          "output_type": "execute_result",
          "data": {
            "text/html": [
              "<div>\n",
              "<style scoped>\n",
              "    .dataframe tbody tr th:only-of-type {\n",
              "        vertical-align: middle;\n",
              "    }\n",
              "\n",
              "    .dataframe tbody tr th {\n",
              "        vertical-align: top;\n",
              "    }\n",
              "\n",
              "    .dataframe thead th {\n",
              "        text-align: right;\n",
              "    }\n",
              "</style>\n",
              "<table border=\"1\" class=\"dataframe\">\n",
              "  <thead>\n",
              "    <tr style=\"text-align: right;\">\n",
              "      <th></th>\n",
              "      <th>count</th>\n",
              "      <th>mean</th>\n",
              "      <th>std</th>\n",
              "      <th>min</th>\n",
              "      <th>25%</th>\n",
              "      <th>50%</th>\n",
              "      <th>75%</th>\n",
              "      <th>max</th>\n",
              "    </tr>\n",
              "    <tr>\n",
              "      <th>loan_status</th>\n",
              "      <th></th>\n",
              "      <th></th>\n",
              "      <th></th>\n",
              "      <th></th>\n",
              "      <th></th>\n",
              "      <th></th>\n",
              "      <th></th>\n",
              "      <th></th>\n",
              "    </tr>\n",
              "  </thead>\n",
              "  <tbody>\n",
              "    <tr>\n",
              "      <th>0</th>\n",
              "      <td>406601.0</td>\n",
              "      <td>15206.679337</td>\n",
              "      <td>8499.937514</td>\n",
              "      <td>500.0</td>\n",
              "      <td>8700.0</td>\n",
              "      <td>14000.0</td>\n",
              "      <td>20000.0</td>\n",
              "      <td>35000.0</td>\n",
              "    </tr>\n",
              "    <tr>\n",
              "      <th>1</th>\n",
              "      <td>125827.0</td>\n",
              "      <td>13306.413965</td>\n",
              "      <td>8049.663290</td>\n",
              "      <td>500.0</td>\n",
              "      <td>7125.0</td>\n",
              "      <td>12000.0</td>\n",
              "      <td>18000.0</td>\n",
              "      <td>35000.0</td>\n",
              "    </tr>\n",
              "  </tbody>\n",
              "</table>\n",
              "</div>"
            ],
            "text/plain": [
              "                count          mean          std  ...      50%      75%      max\n",
              "loan_status                                       ...                           \n",
              "0            406601.0  15206.679337  8499.937514  ...  14000.0  20000.0  35000.0\n",
              "1            125827.0  13306.413965  8049.663290  ...  12000.0  18000.0  35000.0\n",
              "\n",
              "[2 rows x 8 columns]"
            ]
          },
          "metadata": {
            "tags": []
          },
          "execution_count": 23
        }
      ]
    },
    {
      "cell_type": "code",
      "metadata": {
        "colab": {
          "base_uri": "https://localhost:8080/"
        },
        "id": "xqzuHk-NSIU0",
        "outputId": "ebc63e3c-2405-4faa-d31d-c47a883ce8f8"
      },
      "source": [
        "# term\n",
        "data['term'].value_counts(dropna=False)"
      ],
      "execution_count": null,
      "outputs": [
        {
          "output_type": "execute_result",
          "data": {
            "text/plain": [
              "36 months    621125\n",
              "60 months    266254\n",
              "Name: term, dtype: int64"
            ]
          },
          "metadata": {
            "tags": []
          },
          "execution_count": 24
        }
      ]
    },
    {
      "cell_type": "code",
      "metadata": {
        "id": "y-3oB-7OSkLj"
      },
      "source": [
        "#Convert term to integers. \n",
        "data['term'] = data['term'].apply(lambda s: np.int8(s.split()[0]))"
      ],
      "execution_count": null,
      "outputs": []
    },
    {
      "cell_type": "code",
      "metadata": {
        "colab": {
          "base_uri": "https://localhost:8080/"
        },
        "id": "kNFPThxgSoDJ",
        "outputId": "252f152a-e4ed-4951-df1c-29b3a056fe24"
      },
      "source": [
        "data['term'].value_counts(normalize=True)"
      ],
      "execution_count": null,
      "outputs": [
        {
          "output_type": "execute_result",
          "data": {
            "text/plain": [
              "36    0.699955\n",
              "60    0.300045\n",
              "Name: term, dtype: float64"
            ]
          },
          "metadata": {
            "tags": []
          },
          "execution_count": 26
        }
      ]
    },
    {
      "cell_type": "markdown",
      "metadata": {
        "id": "mUbF5yNHS3Og"
      },
      "source": [
        "About 70% of the completed loans have three-year periods, and the rest have five-year periods. Loans with five-year periods are more than twice as likely to charge-off as loans with three-year periods."
      ]
    },
    {
      "cell_type": "code",
      "metadata": {
        "colab": {
          "base_uri": "https://localhost:8080/"
        },
        "id": "ar3tbytjWwX8",
        "outputId": "21a940c7-57a4-4d5c-b347-c13a208b0a19"
      },
      "source": [
        "train1.groupby('term')['loan_status'].value_counts(normalize=True)"
      ],
      "execution_count": null,
      "outputs": [
        {
          "output_type": "execute_result",
          "data": {
            "text/plain": [
              "term       loan_status\n",
              "36 months  0              0.727267\n",
              "           1              0.272733\n",
              "60 months  0              0.848692\n",
              "           1              0.151308\n",
              "Name: loan_status, dtype: float64"
            ]
          },
          "metadata": {
            "tags": []
          },
          "execution_count": 27
        }
      ]
    },
    {
      "cell_type": "code",
      "metadata": {
        "id": "r9VnIJ_gSrZ2"
      },
      "source": [
        "# data.groupby('term')['loan_status'].value_counts(normalize=True)"
      ],
      "execution_count": null,
      "outputs": []
    },
    {
      "cell_type": "code",
      "metadata": {
        "colab": {
          "base_uri": "https://localhost:8080/"
        },
        "id": "ib4KDuLsSvXf",
        "outputId": "3d3d7a72-58ad-42cd-c439-35aece826fde"
      },
      "source": [
        "# int_rate\n",
        "data['int_rate'].describe()"
      ],
      "execution_count": null,
      "outputs": [
        {
          "output_type": "execute_result",
          "data": {
            "text/plain": [
              "count    887379.000000\n",
              "mean         13.246740\n",
              "std           4.381867\n",
              "min           5.320000\n",
              "25%           9.990000\n",
              "50%          12.990000\n",
              "75%          16.200000\n",
              "max          28.990000\n",
              "Name: int_rate, dtype: float64"
            ]
          },
          "metadata": {
            "tags": []
          },
          "execution_count": 29
        }
      ]
    },
    {
      "cell_type": "code",
      "metadata": {
        "id": "61mxDQ0MS6z_"
      },
      "source": [
        "# plot_var('int_rate', 'Interest Rate', continuous=True)"
      ],
      "execution_count": 121,
      "outputs": []
    },
    {
      "cell_type": "code",
      "metadata": {
        "colab": {
          "base_uri": "https://localhost:8080/",
          "height": 142
        },
        "id": "BzNHVH16W2tA",
        "outputId": "1a83ecc2-607f-425c-8530-f8bac9b93177"
      },
      "source": [
        "train1.groupby('loan_status')['int_rate'].describe()"
      ],
      "execution_count": null,
      "outputs": [
        {
          "output_type": "execute_result",
          "data": {
            "text/html": [
              "<div>\n",
              "<style scoped>\n",
              "    .dataframe tbody tr th:only-of-type {\n",
              "        vertical-align: middle;\n",
              "    }\n",
              "\n",
              "    .dataframe tbody tr th {\n",
              "        vertical-align: top;\n",
              "    }\n",
              "\n",
              "    .dataframe thead th {\n",
              "        text-align: right;\n",
              "    }\n",
              "</style>\n",
              "<table border=\"1\" class=\"dataframe\">\n",
              "  <thead>\n",
              "    <tr style=\"text-align: right;\">\n",
              "      <th></th>\n",
              "      <th>count</th>\n",
              "      <th>mean</th>\n",
              "      <th>std</th>\n",
              "      <th>min</th>\n",
              "      <th>25%</th>\n",
              "      <th>50%</th>\n",
              "      <th>75%</th>\n",
              "      <th>max</th>\n",
              "    </tr>\n",
              "    <tr>\n",
              "      <th>loan_status</th>\n",
              "      <th></th>\n",
              "      <th></th>\n",
              "      <th></th>\n",
              "      <th></th>\n",
              "      <th></th>\n",
              "      <th></th>\n",
              "      <th></th>\n",
              "      <th></th>\n",
              "    </tr>\n",
              "  </thead>\n",
              "  <tbody>\n",
              "    <tr>\n",
              "      <th>0</th>\n",
              "      <td>406601.0</td>\n",
              "      <td>13.236660</td>\n",
              "      <td>4.418598</td>\n",
              "      <td>5.32</td>\n",
              "      <td>9.99</td>\n",
              "      <td>12.99</td>\n",
              "      <td>16.29</td>\n",
              "      <td>28.99</td>\n",
              "    </tr>\n",
              "    <tr>\n",
              "      <th>1</th>\n",
              "      <td>125827.0</td>\n",
              "      <td>13.263356</td>\n",
              "      <td>4.251138</td>\n",
              "      <td>5.32</td>\n",
              "      <td>10.16</td>\n",
              "      <td>13.11</td>\n",
              "      <td>15.80</td>\n",
              "      <td>28.99</td>\n",
              "    </tr>\n",
              "  </tbody>\n",
              "</table>\n",
              "</div>"
            ],
            "text/plain": [
              "                count       mean       std   min    25%    50%    75%    max\n",
              "loan_status                                                                 \n",
              "0            406601.0  13.236660  4.418598  5.32   9.99  12.99  16.29  28.99\n",
              "1            125827.0  13.263356  4.251138  5.32  10.16  13.11  15.80  28.99"
            ]
          },
          "metadata": {
            "tags": []
          },
          "execution_count": 31
        }
      ]
    },
    {
      "cell_type": "code",
      "metadata": {
        "colab": {
          "base_uri": "https://localhost:8080/"
        },
        "id": "OiFRuIbOTLWw",
        "outputId": "a10c7bd2-569e-48d6-e269-ed134b5ed101"
      },
      "source": [
        "# grade,sub_grade\n",
        "print(sorted(data['grade'].unique()))"
      ],
      "execution_count": null,
      "outputs": [
        {
          "output_type": "stream",
          "text": [
            "['A', 'B', 'C', 'D', 'E', 'F', 'G']\n"
          ],
          "name": "stdout"
        }
      ]
    },
    {
      "cell_type": "code",
      "metadata": {
        "colab": {
          "base_uri": "https://localhost:8080/"
        },
        "id": "WMS3W-aoTQ5y",
        "outputId": "768c6068-dd83-4db3-a5eb-b24b4f4f62bf"
      },
      "source": [
        "print(sorted(data['sub_grade'].unique()))"
      ],
      "execution_count": null,
      "outputs": [
        {
          "output_type": "stream",
          "text": [
            "['A1', 'A2', 'A3', 'A4', 'A5', 'B1', 'B2', 'B3', 'B4', 'B5', 'C1', 'C2', 'C3', 'C4', 'C5', 'D1', 'D2', 'D3', 'D4', 'D5', 'E1', 'E2', 'E3', 'E4', 'E5', 'F1', 'F2', 'F3', 'F4', 'F5', 'G1', 'G2', 'G3', 'G4', 'G5']\n"
          ],
          "name": "stdout"
        }
      ]
    },
    {
      "cell_type": "markdown",
      "metadata": {
        "id": "BRRMi5oYTa0V"
      },
      "source": [
        "The grade is implied by the subgrade,droping the grade column."
      ]
    },
    {
      "cell_type": "code",
      "metadata": {
        "id": "asPbe3bITYnB"
      },
      "source": [
        "data.drop('grade', axis=1, inplace=True)"
      ],
      "execution_count": null,
      "outputs": []
    },
    {
      "cell_type": "code",
      "metadata": {
        "colab": {
          "base_uri": "https://localhost:8080/"
        },
        "id": "487HlFRnTdk6",
        "outputId": "eb1e80bc-096c-49d6-fa0c-5800f298cbf7"
      },
      "source": [
        "# emp_title\n",
        "data['emp_title'].describe()"
      ],
      "execution_count": null,
      "outputs": [
        {
          "output_type": "execute_result",
          "data": {
            "text/plain": [
              "count      835917\n",
              "unique     289206\n",
              "top       Teacher\n",
              "freq        13807\n",
              "Name: emp_title, dtype: object"
            ]
          },
          "metadata": {
            "tags": []
          },
          "execution_count": 35
        }
      ]
    },
    {
      "cell_type": "markdown",
      "metadata": {
        "id": "2D-r7RUzTjVV"
      },
      "source": [
        "too many different job titles for this feature to be useful, so droping it."
      ]
    },
    {
      "cell_type": "code",
      "metadata": {
        "id": "kDhK3O7dThqK"
      },
      "source": [
        "data.drop(labels='emp_title', axis=1, inplace=True)"
      ],
      "execution_count": null,
      "outputs": []
    },
    {
      "cell_type": "code",
      "metadata": {
        "colab": {
          "base_uri": "https://localhost:8080/"
        },
        "id": "tu_JFoGDTmmt",
        "outputId": "044348c6-21bc-4d9f-d3e8-269318418ddb"
      },
      "source": [
        "# emp_length\n",
        "data['emp_length'].value_counts(dropna=False).sort_index()\n"
      ],
      "execution_count": null,
      "outputs": [
        {
          "output_type": "execute_result",
          "data": {
            "text/plain": [
              "1 year        57095\n",
              "10+ years    291569\n",
              "2 years       78870\n",
              "3 years       70026\n",
              "4 years       52529\n",
              "5 years       55704\n",
              "6 years       42950\n",
              "7 years       44594\n",
              "8 years       43955\n",
              "9 years       34657\n",
              "< 1 year      70605\n",
              "NaN           44825\n",
              "Name: emp_length, dtype: int64"
            ]
          },
          "metadata": {
            "tags": []
          },
          "execution_count": 37
        }
      ]
    },
    {
      "cell_type": "markdown",
      "metadata": {
        "id": "jBuTI-tGTwEA"
      },
      "source": [
        "Note there are 44825 loans without data on the length of employment.\n",
        "\n"
      ]
    },
    {
      "cell_type": "code",
      "metadata": {
        "id": "mGU5DlkTTpnq"
      },
      "source": [
        "# Convert emp_length to integers:\n",
        "data['emp_length'].replace(to_replace='10+ years', value='10 years', inplace=True)\n"
      ],
      "execution_count": null,
      "outputs": []
    },
    {
      "cell_type": "code",
      "metadata": {
        "id": "zOfW1mtET5IZ"
      },
      "source": [
        "data['emp_length'].replace('< 1 year', '0 years', inplace=True)"
      ],
      "execution_count": null,
      "outputs": []
    },
    {
      "cell_type": "code",
      "metadata": {
        "id": "6CBfp_XsT7og"
      },
      "source": [
        "def emp_length_to_int(s):\n",
        "    if pd.isnull(s):\n",
        "        return s\n",
        "    else:\n",
        "        return np.int8(s.split()[0])"
      ],
      "execution_count": null,
      "outputs": []
    },
    {
      "cell_type": "code",
      "metadata": {
        "id": "-BhyySnJT93L"
      },
      "source": [
        "data['emp_length'] = data['emp_length'].apply(emp_length_to_int)"
      ],
      "execution_count": null,
      "outputs": []
    },
    {
      "cell_type": "code",
      "metadata": {
        "colab": {
          "base_uri": "https://localhost:8080/"
        },
        "id": "XwTfTta_UBTu",
        "outputId": "6db45af5-5cfb-4c1c-9ee8-681ad582a310"
      },
      "source": [
        "data['emp_length'].value_counts(dropna=False).sort_index()"
      ],
      "execution_count": null,
      "outputs": [
        {
          "output_type": "execute_result",
          "data": {
            "text/plain": [
              "0.0      70605\n",
              "1.0      57095\n",
              "2.0      78870\n",
              "3.0      70026\n",
              "4.0      52529\n",
              "5.0      55704\n",
              "6.0      42950\n",
              "7.0      44594\n",
              "8.0      43955\n",
              "9.0      34657\n",
              "10.0    291569\n",
              "NaN      44825\n",
              "Name: emp_length, dtype: int64"
            ]
          },
          "metadata": {
            "tags": []
          },
          "execution_count": 42
        }
      ]
    },
    {
      "cell_type": "code",
      "metadata": {
        "colab": {
          "base_uri": "https://localhost:8080/",
          "height": 332
        },
        "id": "7BzSd65bXE-S",
        "outputId": "d2b5179a-7f87-4274-a98f-f3032eb8b861"
      },
      "source": [
        "per_charge_off = train1[train1['loan_status'] == 0]['emp_length'].value_counts() / train1[train1['loan_status'] == 1]['emp_length'].value_counts()\n",
        "per_charge_off.plot.bar(color='green')"
      ],
      "execution_count": null,
      "outputs": [
        {
          "output_type": "execute_result",
          "data": {
            "text/plain": [
              "<matplotlib.axes._subplots.AxesSubplot at 0x7ff2f13f9358>"
            ]
          },
          "metadata": {
            "tags": []
          },
          "execution_count": 43
        },
        {
          "output_type": "display_data",
          "data": {
            "image/png": "[encoded data removed]",
            "text/plain": [
              "<Figure size 432x288 with 1 Axes>"
            ]
          },
          "metadata": {
            "tags": [],
            "needs_background": "light"
          }
        }
      ]
    },
    {
      "cell_type": "code",
      "metadata": {
        "id": "GE5E3uUlUEzy"
      },
      "source": [
        "data.drop(labels='emp_length', axis=1, inplace=True)"
      ],
      "execution_count": null,
      "outputs": []
    },
    {
      "cell_type": "code",
      "metadata": {
        "colab": {
          "base_uri": "https://localhost:8080/"
        },
        "id": "XQlbup8LULNX",
        "outputId": "8b46af56-9161-4b99-c4ab-010837a69c3a"
      },
      "source": [
        "# home_owernship\n",
        "data['home_ownership'].value_counts(dropna=False)"
      ],
      "execution_count": null,
      "outputs": [
        {
          "output_type": "execute_result",
          "data": {
            "text/plain": [
              "MORTGAGE    443557\n",
              "RENT        356117\n",
              "OWN          87470\n",
              "OTHER          182\n",
              "NONE            50\n",
              "ANY              3\n",
              "Name: home_ownership, dtype: int64"
            ]
          },
          "metadata": {
            "tags": []
          },
          "execution_count": 45
        }
      ]
    },
    {
      "cell_type": "code",
      "metadata": {
        "id": "RrGfqlqQUVmd"
      },
      "source": [
        "# Replace the values ANY and NONE with OTHER:\n",
        "data['home_ownership'].replace(['NONE', 'ANY'], 'OTHER', inplace=True)"
      ],
      "execution_count": null,
      "outputs": []
    },
    {
      "cell_type": "code",
      "metadata": {
        "colab": {
          "base_uri": "https://localhost:8080/"
        },
        "id": "uQ1vfhfoUYLm",
        "outputId": "13c32bc1-2c0e-4dd8-e97f-af60ad2df204"
      },
      "source": [
        "data['home_ownership'].value_counts(dropna=False)"
      ],
      "execution_count": null,
      "outputs": [
        {
          "output_type": "execute_result",
          "data": {
            "text/plain": [
              "MORTGAGE    443557\n",
              "RENT        356117\n",
              "OWN          87470\n",
              "OTHER          235\n",
              "Name: home_ownership, dtype: int64"
            ]
          },
          "metadata": {
            "tags": []
          },
          "execution_count": 47
        }
      ]
    },
    {
      "cell_type": "code",
      "metadata": {
        "colab": {
          "base_uri": "https://localhost:8080/"
        },
        "id": "TNEpWhSXUaay",
        "outputId": "888ee26a-2f08-48b4-9bd6-42addb023f2c"
      },
      "source": [
        "# annual_inc\n",
        "data['annual_inc'].describe()"
      ],
      "execution_count": null,
      "outputs": [
        {
          "output_type": "execute_result",
          "data": {
            "text/plain": [
              "count    8.873750e+05\n",
              "mean     7.502759e+04\n",
              "std      6.469830e+04\n",
              "min      0.000000e+00\n",
              "25%      4.500000e+04\n",
              "50%      6.500000e+04\n",
              "75%      9.000000e+04\n",
              "max      9.500000e+06\n",
              "Name: annual_inc, dtype: float64"
            ]
          },
          "metadata": {
            "tags": []
          },
          "execution_count": 48
        }
      ]
    },
    {
      "cell_type": "code",
      "metadata": {
        "id": "qKxWJaxlUism"
      },
      "source": [
        "data['log_annual_inc'] = data['annual_inc'].apply(lambda x: np.log10(x+1))"
      ],
      "execution_count": null,
      "outputs": []
    },
    {
      "cell_type": "code",
      "metadata": {
        "id": "UhnzBWQyUmGa"
      },
      "source": [
        "data.drop('annual_inc', axis=1, inplace=True)"
      ],
      "execution_count": null,
      "outputs": []
    },
    {
      "cell_type": "code",
      "metadata": {
        "colab": {
          "base_uri": "https://localhost:8080/"
        },
        "id": "-axnWrtMUp9k",
        "outputId": "b5952c9b-2648-4224-f364-58813b86d465"
      },
      "source": [
        "data['log_annual_inc'].describe()"
      ],
      "execution_count": null,
      "outputs": [
        {
          "output_type": "execute_result",
          "data": {
            "text/plain": [
              "count    887375.000000\n",
              "mean          4.809830\n",
              "std           0.229551\n",
              "min           0.000000\n",
              "25%           4.653222\n",
              "50%           4.812920\n",
              "75%           4.954247\n",
              "max           6.977724\n",
              "Name: log_annual_inc, dtype: float64"
            ]
          },
          "metadata": {
            "tags": []
          },
          "execution_count": 51
        }
      ]
    },
    {
      "cell_type": "code",
      "metadata": {
        "id": "Aoa75xh3XTh7"
      },
      "source": [
        "# train1.groupby('loan_status')['log_annual_inc'].describe()"
      ],
      "execution_count": null,
      "outputs": []
    },
    {
      "cell_type": "code",
      "metadata": {
        "colab": {
          "base_uri": "https://localhost:8080/"
        },
        "id": "UwdORXtBUsQK",
        "outputId": "ff77507d-80fd-4ad7-b2f2-71ced5eaa417"
      },
      "source": [
        "# purpose \n",
        "data['purpose'].value_counts()"
      ],
      "execution_count": null,
      "outputs": [
        {
          "output_type": "execute_result",
          "data": {
            "text/plain": [
              "debt_consolidation    524215\n",
              "credit_card           206182\n",
              "home_improvement       51829\n",
              "other                  42894\n",
              "major_purchase         17277\n",
              "small_business         10377\n",
              "car                     8863\n",
              "medical                 8540\n",
              "moving                  5414\n",
              "vacation                4736\n",
              "house                   3707\n",
              "wedding                 2347\n",
              "renewable_energy         575\n",
              "educational              423\n",
              "Name: purpose, dtype: int64"
            ]
          },
          "metadata": {
            "tags": []
          },
          "execution_count": 53
        }
      ]
    },
    {
      "cell_type": "code",
      "metadata": {
        "colab": {
          "base_uri": "https://localhost:8080/"
        },
        "id": "e0okQ__SUwhh",
        "outputId": "c6bb3c48-7148-464c-d5dc-3d05294513c9"
      },
      "source": [
        "train1.groupby('purpose')['loan_status'].value_counts(normalize=True).sort_values()"
      ],
      "execution_count": null,
      "outputs": [
        {
          "output_type": "execute_result",
          "data": {
            "text/plain": [
              "purpose             loan_status\n",
              "credit_card         1              0.206162\n",
              "educational         0              0.207692\n",
              "debt_consolidation  1              0.231840\n",
              "home_improvement    1              0.248625\n",
              "wedding             0              0.256959\n",
              "medical             1              0.271839\n",
              "other               1              0.272220\n",
              "vacation            1              0.273826\n",
              "moving              1              0.300956\n",
              "major_purchase      1              0.318456\n",
              "small_business      1              0.332574\n",
              "car                 1              0.367262\n",
              "renewable_energy    1              0.371601\n",
              "house               1              0.383410\n",
              "                    0              0.616590\n",
              "renewable_energy    0              0.628399\n",
              "car                 0              0.632738\n",
              "small_business      0              0.667426\n",
              "major_purchase      0              0.681544\n",
              "moving              0              0.699044\n",
              "vacation            0              0.726174\n",
              "other               0              0.727780\n",
              "medical             0              0.728161\n",
              "wedding             1              0.743041\n",
              "home_improvement    0              0.751375\n",
              "debt_consolidation  0              0.768160\n",
              "educational         1              0.792308\n",
              "credit_card         0              0.793838\n",
              "Name: loan_status, dtype: float64"
            ]
          },
          "metadata": {
            "tags": []
          },
          "execution_count": 54
        }
      ]
    },
    {
      "cell_type": "markdown",
      "metadata": {
        "id": "mR3C2luwXduX"
      },
      "source": [
        "Notice that only 74% of completed loans for weddings & education have Defaulter,"
      ]
    },
    {
      "cell_type": "code",
      "metadata": {
        "colab": {
          "base_uri": "https://localhost:8080/"
        },
        "id": "wKq0vETFXb6Y",
        "outputId": "a9cd92d3-1c0d-461e-cd9a-25bf23f5fabd"
      },
      "source": [
        "# Title \n",
        "data['title'].describe()"
      ],
      "execution_count": null,
      "outputs": [
        {
          "output_type": "execute_result",
          "data": {
            "text/plain": [
              "count                 887227\n",
              "unique                 61451\n",
              "top       Debt consolidation\n",
              "freq                  414352\n",
              "Name: title, dtype: object"
            ]
          },
          "metadata": {
            "tags": []
          },
          "execution_count": 55
        }
      ]
    },
    {
      "cell_type": "code",
      "metadata": {
        "colab": {
          "base_uri": "https://localhost:8080/"
        },
        "id": "afKCWUikXhHS",
        "outputId": "44b06360-7d0c-4a79-9f65-19e9d985e841"
      },
      "source": [
        "data['title'].value_counts().head(10)"
      ],
      "execution_count": null,
      "outputs": [
        {
          "output_type": "execute_result",
          "data": {
            "text/plain": [
              "Debt consolidation         414352\n",
              "Credit card refinancing    164341\n",
              "Home improvement            40170\n",
              "Other                       31892\n",
              "Debt Consolidation          16414\n",
              "Major purchase              12051\n",
              "Business                     6746\n",
              "Medical expenses             6675\n",
              "Consolidation                5675\n",
              "Car financing                5565\n",
              "Name: title, dtype: int64"
            ]
          },
          "metadata": {
            "tags": []
          },
          "execution_count": 56
        }
      ]
    },
    {
      "cell_type": "markdown",
      "metadata": {
        "id": "GNqmypj1Xqg3"
      },
      "source": [
        "There are different titles in the dataset, and based on the top 10 titles, the purpose variable appears to already contain this information. droping the title variable."
      ]
    },
    {
      "cell_type": "code",
      "metadata": {
        "id": "iJk8IOxxXkeP"
      },
      "source": [
        "data.drop('title', axis=1, inplace=True)"
      ],
      "execution_count": null,
      "outputs": []
    },
    {
      "cell_type": "code",
      "metadata": {
        "colab": {
          "base_uri": "https://localhost:8080/"
        },
        "id": "mJmgXdlTXn_B",
        "outputId": "5ed9ec30-641f-463c-9773-a23bfad8f57b"
      },
      "source": [
        "#zip_code,addr_state\n",
        "data['zip_code'].sample(5)"
      ],
      "execution_count": null,
      "outputs": [
        {
          "output_type": "execute_result",
          "data": {
            "text/plain": [
              "228899    334xx\n",
              "144650    751xx\n",
              "381034    035xx\n",
              "202609    672xx\n",
              "186431    894xx\n",
              "Name: zip_code, dtype: object"
            ]
          },
          "metadata": {
            "tags": []
          },
          "execution_count": 58
        }
      ]
    },
    {
      "cell_type": "code",
      "metadata": {
        "colab": {
          "base_uri": "https://localhost:8080/"
        },
        "id": "ZWKabjJ1X87b",
        "outputId": "6e6d5478-c92c-4aa9-ba09-7263ca8ccb31"
      },
      "source": [
        "data['zip_code'].nunique()"
      ],
      "execution_count": null,
      "outputs": [
        {
          "output_type": "execute_result",
          "data": {
            "text/plain": [
              "935"
            ]
          },
          "metadata": {
            "tags": []
          },
          "execution_count": 59
        }
      ]
    },
    {
      "cell_type": "code",
      "metadata": {
        "colab": {
          "base_uri": "https://localhost:8080/"
        },
        "id": "EO7fo70nX-4k",
        "outputId": "9cd4809a-c20d-471e-dc8c-25305d35520b"
      },
      "source": [
        "data['addr_state'].sample(5)"
      ],
      "execution_count": null,
      "outputs": [
        {
          "output_type": "execute_result",
          "data": {
            "text/plain": [
              "250813    AZ\n",
              "102411    CA\n",
              "437443    LA\n",
              "408930    OR\n",
              "11151     LA\n",
              "Name: addr_state, dtype: object"
            ]
          },
          "metadata": {
            "tags": []
          },
          "execution_count": 60
        }
      ]
    },
    {
      "cell_type": "code",
      "metadata": {
        "colab": {
          "base_uri": "https://localhost:8080/"
        },
        "id": "RhgmmD7FYBsF",
        "outputId": "3bd81d1a-ba53-4399-953e-e7db53c41cb8"
      },
      "source": [
        "data['addr_state'].nunique()"
      ],
      "execution_count": null,
      "outputs": [
        {
          "output_type": "execute_result",
          "data": {
            "text/plain": [
              "51"
            ]
          },
          "metadata": {
            "tags": []
          },
          "execution_count": 61
        }
      ]
    },
    {
      "cell_type": "markdown",
      "metadata": {
        "id": "FfFPhDf5YLgL"
      },
      "source": [
        "lot of different zip codes,just keeping the state column."
      ]
    },
    {
      "cell_type": "code",
      "metadata": {
        "id": "GoMOeMZaYEb_"
      },
      "source": [
        "data.drop(labels='zip_code', axis=1, inplace=True)"
      ],
      "execution_count": null,
      "outputs": []
    },
    {
      "cell_type": "code",
      "metadata": {
        "colab": {
          "base_uri": "https://localhost:8080/"
        },
        "id": "x1DMSIZrYKSA",
        "outputId": "43b10dde-02cb-4964-a203-7e12e1ce905f"
      },
      "source": [
        "train1.groupby('addr_state')['loan_status'].value_counts(normalize=True).sort_values()"
      ],
      "execution_count": null,
      "outputs": [
        {
          "output_type": "execute_result",
          "data": {
            "text/plain": [
              "addr_state  loan_status\n",
              "ND          1              0.017606\n",
              "ME          1              0.024691\n",
              "NE          1              0.026798\n",
              "MS          1              0.089286\n",
              "TN          1              0.149162\n",
              "                             ...   \n",
              "            0              0.850838\n",
              "MS          0              0.910714\n",
              "NE          0              0.973202\n",
              "ME          0              0.975309\n",
              "ND          0              0.982394\n",
              "Name: loan_status, Length: 102, dtype: float64"
            ]
          },
          "metadata": {
            "tags": []
          },
          "execution_count": 63
        }
      ]
    },
    {
      "cell_type": "code",
      "metadata": {
        "colab": {
          "base_uri": "https://localhost:8080/"
        },
        "id": "OPk-xYxQYOzJ",
        "outputId": "17316f16-5358-4f7f-8e04-29db94c33aa8"
      },
      "source": [
        "# dti\n",
        "data['dti'].describe()"
      ],
      "execution_count": null,
      "outputs": [
        {
          "output_type": "execute_result",
          "data": {
            "text/plain": [
              "count    887379.000000\n",
              "mean         18.157039\n",
              "std          17.190626\n",
              "min           0.000000\n",
              "25%          11.910000\n",
              "50%          17.650000\n",
              "75%          23.950000\n",
              "max        9999.000000\n",
              "Name: dti, dtype: float64"
            ]
          },
          "metadata": {
            "tags": []
          },
          "execution_count": 64
        }
      ]
    },
    {
      "cell_type": "code",
      "metadata": {
        "colab": {
          "base_uri": "https://localhost:8080/",
          "height": 375
        },
        "id": "HiSasDQeYRPM",
        "outputId": "8da9870d-879f-4cfe-dd7e-f8777c86f82e"
      },
      "source": [
        "plt.figure(figsize=(8,3), dpi=90)\n",
        "sns.distplot(data.loc[data['dti'].notnull() & (data['dti']<60), 'dti'], kde=False)\n",
        "plt.xlabel('Debt-to-income Ratio')\n",
        "plt.ylabel('Count')\n",
        "plt.title('Debt-to-income Ratio')"
      ],
      "execution_count": null,
      "outputs": [
        {
          "output_type": "stream",
          "text": [
            "/usr/local/lib/python3.6/dist-packages/seaborn/distributions.py:2551: FutureWarning: `distplot` is a deprecated function and will be removed in a future version. Please adapt your code to use either `displot` (a figure-level function with similar flexibility) or `histplot` (an axes-level function for histograms).\n",
            "  warnings.warn(msg, FutureWarning)\n"
          ],
          "name": "stderr"
        },
        {
          "output_type": "execute_result",
          "data": {
            "text/plain": [
              "Text(0.5, 1.0, 'Debt-to-income Ratio')"
            ]
          },
          "metadata": {
            "tags": []
          },
          "execution_count": 65
        },
        {
          "output_type": "display_data",
          "data": {
            "image/png": "[encoded data removed]",
            "text/plain": [
              "<Figure size 720x270 with 1 Axes>"
            ]
          },
          "metadata": {
            "tags": [],
            "needs_background": "light"
          }
        }
      ]
    },
    {
      "cell_type": "code",
      "metadata": {
        "colab": {
          "base_uri": "https://localhost:8080/"
        },
        "id": "UA40lLPZYZpF",
        "outputId": "07d4ae6c-8d8c-4d4a-d99a-e40ff488a2b7"
      },
      "source": [
        "# How many of the dti values are \"outliers\" (above 60)?\n",
        "(data['dti']>=60).sum()\n"
      ],
      "execution_count": null,
      "outputs": [
        {
          "output_type": "execute_result",
          "data": {
            "text/plain": [
              "29"
            ]
          },
          "metadata": {
            "tags": []
          },
          "execution_count": 66
        }
      ]
    },
    {
      "cell_type": "code",
      "metadata": {
        "colab": {
          "base_uri": "https://localhost:8080/",
          "height": 142
        },
        "id": "k3kr_TWyYdKd",
        "outputId": "5389dba9-1693-498c-bc41-deaab87c8aae"
      },
      "source": [
        "train1.groupby('loan_status')['dti'].describe()"
      ],
      "execution_count": null,
      "outputs": [
        {
          "output_type": "execute_result",
          "data": {
            "text/html": [
              "<div>\n",
              "<style scoped>\n",
              "    .dataframe tbody tr th:only-of-type {\n",
              "        vertical-align: middle;\n",
              "    }\n",
              "\n",
              "    .dataframe tbody tr th {\n",
              "        vertical-align: top;\n",
              "    }\n",
              "\n",
              "    .dataframe thead th {\n",
              "        text-align: right;\n",
              "    }\n",
              "</style>\n",
              "<table border=\"1\" class=\"dataframe\">\n",
              "  <thead>\n",
              "    <tr style=\"text-align: right;\">\n",
              "      <th></th>\n",
              "      <th>count</th>\n",
              "      <th>mean</th>\n",
              "      <th>std</th>\n",
              "      <th>min</th>\n",
              "      <th>25%</th>\n",
              "      <th>50%</th>\n",
              "      <th>75%</th>\n",
              "      <th>max</th>\n",
              "    </tr>\n",
              "    <tr>\n",
              "      <th>loan_status</th>\n",
              "      <th></th>\n",
              "      <th></th>\n",
              "      <th></th>\n",
              "      <th></th>\n",
              "      <th></th>\n",
              "      <th></th>\n",
              "      <th></th>\n",
              "      <th></th>\n",
              "    </tr>\n",
              "  </thead>\n",
              "  <tbody>\n",
              "    <tr>\n",
              "      <th>0</th>\n",
              "      <td>406601.0</td>\n",
              "      <td>18.762716</td>\n",
              "      <td>8.469814</td>\n",
              "      <td>0.0</td>\n",
              "      <td>12.46</td>\n",
              "      <td>18.29</td>\n",
              "      <td>24.73</td>\n",
              "      <td>672.52</td>\n",
              "    </tr>\n",
              "    <tr>\n",
              "      <th>1</th>\n",
              "      <td>125827.0</td>\n",
              "      <td>16.122518</td>\n",
              "      <td>7.696557</td>\n",
              "      <td>0.0</td>\n",
              "      <td>10.40</td>\n",
              "      <td>15.74</td>\n",
              "      <td>21.46</td>\n",
              "      <td>57.14</td>\n",
              "    </tr>\n",
              "  </tbody>\n",
              "</table>\n",
              "</div>"
            ],
            "text/plain": [
              "                count       mean       std  min    25%    50%    75%     max\n",
              "loan_status                                                                 \n",
              "0            406601.0  18.762716  8.469814  0.0  12.46  18.29  24.73  672.52\n",
              "1            125827.0  16.122518  7.696557  0.0  10.40  15.74  21.46   57.14"
            ]
          },
          "metadata": {
            "tags": []
          },
          "execution_count": 67
        }
      ]
    },
    {
      "cell_type": "code",
      "metadata": {
        "id": "QytY4dzfYfGp"
      },
      "source": [
        "# # open_acc\n",
        "# plt.figure(figsize=(10,3), dpi=90)\n",
        "# sns.countplot(train1=['open_acc'], order=sorted(train1['open_acc'].unique()), color='#5975A4', saturation=1)\n",
        "# _, _ = plt.xticks(np.arange(0, 90, 5), np.arange(0, 90, 5))\n",
        "# plt.title('Number of Open Credit Lines')"
      ],
      "execution_count": null,
      "outputs": []
    },
    {
      "cell_type": "code",
      "metadata": {
        "colab": {
          "base_uri": "https://localhost:8080/",
          "height": 142
        },
        "id": "0GIiW0QsYmHK",
        "outputId": "917441c0-5ffe-4536-e8d2-3cd99060e47d"
      },
      "source": [
        "train1.groupby('loan_status')['open_acc'].describe()"
      ],
      "execution_count": null,
      "outputs": [
        {
          "output_type": "execute_result",
          "data": {
            "text/html": [
              "<div>\n",
              "<style scoped>\n",
              "    .dataframe tbody tr th:only-of-type {\n",
              "        vertical-align: middle;\n",
              "    }\n",
              "\n",
              "    .dataframe tbody tr th {\n",
              "        vertical-align: top;\n",
              "    }\n",
              "\n",
              "    .dataframe thead th {\n",
              "        text-align: right;\n",
              "    }\n",
              "</style>\n",
              "<table border=\"1\" class=\"dataframe\">\n",
              "  <thead>\n",
              "    <tr style=\"text-align: right;\">\n",
              "      <th></th>\n",
              "      <th>count</th>\n",
              "      <th>mean</th>\n",
              "      <th>std</th>\n",
              "      <th>min</th>\n",
              "      <th>25%</th>\n",
              "      <th>50%</th>\n",
              "      <th>75%</th>\n",
              "      <th>max</th>\n",
              "    </tr>\n",
              "    <tr>\n",
              "      <th>loan_status</th>\n",
              "      <th></th>\n",
              "      <th></th>\n",
              "      <th></th>\n",
              "      <th></th>\n",
              "      <th></th>\n",
              "      <th></th>\n",
              "      <th></th>\n",
              "      <th></th>\n",
              "    </tr>\n",
              "  </thead>\n",
              "  <tbody>\n",
              "    <tr>\n",
              "      <th>0</th>\n",
              "      <td>406598.0</td>\n",
              "      <td>11.737783</td>\n",
              "      <td>5.421973</td>\n",
              "      <td>0.0</td>\n",
              "      <td>8.0</td>\n",
              "      <td>11.0</td>\n",
              "      <td>14.0</td>\n",
              "      <td>90.0</td>\n",
              "    </tr>\n",
              "    <tr>\n",
              "      <th>1</th>\n",
              "      <td>125814.0</td>\n",
              "      <td>10.924492</td>\n",
              "      <td>4.885944</td>\n",
              "      <td>0.0</td>\n",
              "      <td>7.0</td>\n",
              "      <td>10.0</td>\n",
              "      <td>14.0</td>\n",
              "      <td>58.0</td>\n",
              "    </tr>\n",
              "  </tbody>\n",
              "</table>\n",
              "</div>"
            ],
            "text/plain": [
              "                count       mean       std  min  25%   50%   75%   max\n",
              "loan_status                                                           \n",
              "0            406598.0  11.737783  5.421973  0.0  8.0  11.0  14.0  90.0\n",
              "1            125814.0  10.924492  4.885944  0.0  7.0  10.0  14.0  58.0"
            ]
          },
          "metadata": {
            "tags": []
          },
          "execution_count": 69
        }
      ]
    },
    {
      "cell_type": "code",
      "metadata": {
        "colab": {
          "base_uri": "https://localhost:8080/"
        },
        "id": "mxv27nK8ZAs6",
        "outputId": "eb47741c-2133-47d7-f649-c55877bc798f"
      },
      "source": [
        "# pub_rec\n",
        "data['pub_rec'].value_counts().sort_index()"
      ],
      "execution_count": null,
      "outputs": [
        {
          "output_type": "execute_result",
          "data": {
            "text/plain": [
              "0.0     751572\n",
              "1.0     113266\n",
              "2.0      14854\n",
              "3.0       4487\n",
              "4.0       1564\n",
              "5.0        757\n",
              "6.0        385\n",
              "7.0        170\n",
              "8.0        113\n",
              "9.0         50\n",
              "10.0        42\n",
              "11.0        23\n",
              "12.0        16\n",
              "13.0        12\n",
              "14.0         2\n",
              "15.0         6\n",
              "16.0         5\n",
              "17.0         3\n",
              "18.0         5\n",
              "19.0         2\n",
              "20.0         1\n",
              "21.0         4\n",
              "22.0         1\n",
              "23.0         1\n",
              "26.0         1\n",
              "28.0         1\n",
              "34.0         1\n",
              "40.0         1\n",
              "49.0         2\n",
              "54.0         1\n",
              "63.0         1\n",
              "86.0         1\n",
              "Name: pub_rec, dtype: int64"
            ]
          },
          "metadata": {
            "tags": []
          },
          "execution_count": 70
        }
      ]
    },
    {
      "cell_type": "code",
      "metadata": {
        "colab": {
          "base_uri": "https://localhost:8080/",
          "height": 142
        },
        "id": "oMRGPyJ8ZDVc",
        "outputId": "9af077b3-cc6b-49fd-d2eb-b3eedce1c5bb"
      },
      "source": [
        "train1.groupby('loan_status')['pub_rec'].describe()"
      ],
      "execution_count": null,
      "outputs": [
        {
          "output_type": "execute_result",
          "data": {
            "text/html": [
              "<div>\n",
              "<style scoped>\n",
              "    .dataframe tbody tr th:only-of-type {\n",
              "        vertical-align: middle;\n",
              "    }\n",
              "\n",
              "    .dataframe tbody tr th {\n",
              "        vertical-align: top;\n",
              "    }\n",
              "\n",
              "    .dataframe thead th {\n",
              "        text-align: right;\n",
              "    }\n",
              "</style>\n",
              "<table border=\"1\" class=\"dataframe\">\n",
              "  <thead>\n",
              "    <tr style=\"text-align: right;\">\n",
              "      <th></th>\n",
              "      <th>count</th>\n",
              "      <th>mean</th>\n",
              "      <th>std</th>\n",
              "      <th>min</th>\n",
              "      <th>25%</th>\n",
              "      <th>50%</th>\n",
              "      <th>75%</th>\n",
              "      <th>max</th>\n",
              "    </tr>\n",
              "    <tr>\n",
              "      <th>loan_status</th>\n",
              "      <th></th>\n",
              "      <th></th>\n",
              "      <th></th>\n",
              "      <th></th>\n",
              "      <th></th>\n",
              "      <th></th>\n",
              "      <th></th>\n",
              "      <th></th>\n",
              "    </tr>\n",
              "  </thead>\n",
              "  <tbody>\n",
              "    <tr>\n",
              "      <th>0</th>\n",
              "      <td>406598.0</td>\n",
              "      <td>0.210734</td>\n",
              "      <td>0.622240</td>\n",
              "      <td>0.0</td>\n",
              "      <td>0.0</td>\n",
              "      <td>0.0</td>\n",
              "      <td>0.0</td>\n",
              "      <td>86.0</td>\n",
              "    </tr>\n",
              "    <tr>\n",
              "      <th>1</th>\n",
              "      <td>125814.0</td>\n",
              "      <td>0.143553</td>\n",
              "      <td>0.433199</td>\n",
              "      <td>0.0</td>\n",
              "      <td>0.0</td>\n",
              "      <td>0.0</td>\n",
              "      <td>0.0</td>\n",
              "      <td>11.0</td>\n",
              "    </tr>\n",
              "  </tbody>\n",
              "</table>\n",
              "</div>"
            ],
            "text/plain": [
              "                count      mean       std  min  25%  50%  75%   max\n",
              "loan_status                                                        \n",
              "0            406598.0  0.210734  0.622240  0.0  0.0  0.0  0.0  86.0\n",
              "1            125814.0  0.143553  0.433199  0.0  0.0  0.0  0.0  11.0"
            ]
          },
          "metadata": {
            "tags": []
          },
          "execution_count": 71
        }
      ]
    },
    {
      "cell_type": "code",
      "metadata": {
        "colab": {
          "base_uri": "https://localhost:8080/"
        },
        "id": "G-75N1AoZGVZ",
        "outputId": "0a87ebf5-914a-4139-b17e-6c1791ac265e"
      },
      "source": [
        " # revol_bal\n",
        " data['revol_bal'].describe()"
      ],
      "execution_count": null,
      "outputs": [
        {
          "output_type": "execute_result",
          "data": {
            "text/plain": [
              "count    8.873790e+05\n",
              "mean     1.692079e+04\n",
              "std      2.242679e+04\n",
              "min      0.000000e+00\n",
              "25%      6.443000e+03\n",
              "50%      1.187500e+04\n",
              "75%      2.082900e+04\n",
              "max      2.904836e+06\n",
              "Name: revol_bal, dtype: float64"
            ]
          },
          "metadata": {
            "tags": []
          },
          "execution_count": 72
        }
      ]
    },
    {
      "cell_type": "code",
      "metadata": {
        "id": "E8w6fgcaZIWY"
      },
      "source": [
        "data['log_revol_bal'] = data['revol_bal'].apply(lambda x: np.log10(x+1))"
      ],
      "execution_count": null,
      "outputs": []
    },
    {
      "cell_type": "code",
      "metadata": {
        "id": "LjcQBiCwZNW8"
      },
      "source": [
        "data.drop('revol_bal', axis=1, inplace=True)"
      ],
      "execution_count": null,
      "outputs": []
    },
    {
      "cell_type": "code",
      "metadata": {
        "colab": {
          "base_uri": "https://localhost:8080/",
          "height": 376
        },
        "id": "Xa1rgd9QZP8j",
        "outputId": "af467775-bfad-4b82-eda0-a8dfc916c497"
      },
      "source": [
        "# total_acc\n",
        "plt.figure(figsize=(12,3), dpi=90)\n",
        "sns.countplot(data['total_acc'], order=sorted(data['total_acc'].unique()), color='#5975A4', saturation=1)\n",
        "_, _ = plt.xticks(np.arange(0, 176, 10), np.arange(0, 176, 10))\n",
        "plt.title('Total Number of Credit Lines')\n"
      ],
      "execution_count": null,
      "outputs": [
        {
          "output_type": "stream",
          "text": [
            "/usr/local/lib/python3.6/dist-packages/seaborn/_decorators.py:43: FutureWarning: Pass the following variable as a keyword arg: x. From version 0.12, the only valid positional argument will be `data`, and passing other arguments without an explicit keyword will result in an error or misinterpretation.\n",
            "  FutureWarning\n"
          ],
          "name": "stderr"
        },
        {
          "output_type": "execute_result",
          "data": {
            "text/plain": [
              "Text(0.5, 1.0, 'Total Number of Credit Lines')"
            ]
          },
          "metadata": {
            "tags": []
          },
          "execution_count": 75
        },
        {
          "output_type": "display_data",
          "data": {
            "image/png": "[encoded data removed]",
            "text/plain": [
              "<Figure size 1080x270 with 1 Axes>"
            ]
          },
          "metadata": {
            "tags": [],
            "needs_background": "light"
          }
        }
      ]
    },
    {
      "cell_type": "code",
      "metadata": {
        "colab": {
          "base_uri": "https://localhost:8080/",
          "height": 142
        },
        "id": "PjczM8wyZS6I",
        "outputId": "6b5ef58d-2128-4c48-c77e-3d6e73222082"
      },
      "source": [
        "train1.groupby('loan_status')['total_acc'].describe()\n"
      ],
      "execution_count": null,
      "outputs": [
        {
          "output_type": "execute_result",
          "data": {
            "text/html": [
              "<div>\n",
              "<style scoped>\n",
              "    .dataframe tbody tr th:only-of-type {\n",
              "        vertical-align: middle;\n",
              "    }\n",
              "\n",
              "    .dataframe tbody tr th {\n",
              "        vertical-align: top;\n",
              "    }\n",
              "\n",
              "    .dataframe thead th {\n",
              "        text-align: right;\n",
              "    }\n",
              "</style>\n",
              "<table border=\"1\" class=\"dataframe\">\n",
              "  <thead>\n",
              "    <tr style=\"text-align: right;\">\n",
              "      <th></th>\n",
              "      <th>count</th>\n",
              "      <th>mean</th>\n",
              "      <th>std</th>\n",
              "      <th>min</th>\n",
              "      <th>25%</th>\n",
              "      <th>50%</th>\n",
              "      <th>75%</th>\n",
              "      <th>max</th>\n",
              "    </tr>\n",
              "    <tr>\n",
              "      <th>loan_status</th>\n",
              "      <th></th>\n",
              "      <th></th>\n",
              "      <th></th>\n",
              "      <th></th>\n",
              "      <th></th>\n",
              "      <th></th>\n",
              "      <th></th>\n",
              "      <th></th>\n",
              "    </tr>\n",
              "  </thead>\n",
              "  <tbody>\n",
              "    <tr>\n",
              "      <th>0</th>\n",
              "      <td>406598.0</td>\n",
              "      <td>25.284692</td>\n",
              "      <td>11.852684</td>\n",
              "      <td>1.0</td>\n",
              "      <td>17.0</td>\n",
              "      <td>24.0</td>\n",
              "      <td>32.0</td>\n",
              "      <td>162.0</td>\n",
              "    </tr>\n",
              "    <tr>\n",
              "      <th>1</th>\n",
              "      <td>125814.0</td>\n",
              "      <td>25.211336</td>\n",
              "      <td>11.812416</td>\n",
              "      <td>1.0</td>\n",
              "      <td>17.0</td>\n",
              "      <td>24.0</td>\n",
              "      <td>32.0</td>\n",
              "      <td>104.0</td>\n",
              "    </tr>\n",
              "  </tbody>\n",
              "</table>\n",
              "</div>"
            ],
            "text/plain": [
              "                count       mean        std  min   25%   50%   75%    max\n",
              "loan_status                                                              \n",
              "0            406598.0  25.284692  11.852684  1.0  17.0  24.0  32.0  162.0\n",
              "1            125814.0  25.211336  11.812416  1.0  17.0  24.0  32.0  104.0"
            ]
          },
          "metadata": {
            "tags": []
          },
          "execution_count": 76
        }
      ]
    },
    {
      "cell_type": "markdown",
      "metadata": {
        "id": "o-MIF8jvZmwy"
      },
      "source": [
        "Creating dummy variables"
      ]
    },
    {
      "cell_type": "code",
      "metadata": {
        "colab": {
          "base_uri": "https://localhost:8080/"
        },
        "id": "_Do9YlMrZlLK",
        "outputId": "996ece51-770a-4f3d-c385-ca24043102d0"
      },
      "source": [
        "data.shape"
      ],
      "execution_count": null,
      "outputs": [
        {
          "output_type": "execute_result",
          "data": {
            "text/plain": [
              "(887379, 17)"
            ]
          },
          "metadata": {
            "tags": []
          },
          "execution_count": 77
        }
      ]
    },
    {
      "cell_type": "markdown",
      "metadata": {
        "id": "PR5vemYHZ4gN"
      },
      "source": [
        "If any categorical variables have missing values,creating NaN dummy variables for those."
      ]
    },
    {
      "cell_type": "code",
      "metadata": {
        "id": "Tq2agglnZydv"
      },
      "source": [
        "missing_feature = data.isnull().mean().sort_values(ascending=False)"
      ],
      "execution_count": null,
      "outputs": []
    },
    {
      "cell_type": "code",
      "metadata": {
        "colab": {
          "base_uri": "https://localhost:8080/"
        },
        "id": "sNVF1yYvZ3TZ",
        "outputId": "ff9522f6-78f2-4d9a-9e21-4d793048d144"
      },
      "source": [
        " # Print variables that are missing data\n",
        "print(missing_feature[missing_feature > 0])\n"
      ],
      "execution_count": null,
      "outputs": [
        {
          "output_type": "stream",
          "text": [
            "revol_util        0.000566\n",
            "total_acc         0.000033\n",
            "pub_rec           0.000033\n",
            "open_acc          0.000033\n",
            "log_annual_inc    0.000005\n",
            "dtype: float64\n"
          ],
          "name": "stdout"
        }
      ]
    },
    {
      "cell_type": "markdown",
      "metadata": {
        "id": "tq8CbJQeaEbK"
      },
      "source": [
        "There are no categorical variables with missing values, and therefore no need any NaN dummy variables."
      ]
    },
    {
      "cell_type": "code",
      "metadata": {
        "id": "A8M_vnK2aClv"
      },
      "source": [
        "# filling the missing values with mean \n",
        "data['total_acc'] = data['total_acc'].fillna( data['total_acc'].dropna().mean() )\n",
        "data['log_annual_inc'] = data['log_annual_inc'].fillna( data['log_annual_inc'].dropna().mean() )\n",
        "data['pub_rec'] = data['pub_rec'].fillna( data['pub_rec'].dropna().mean() )\n",
        "data['open_acc'] = data['open_acc'].fillna( data['open_acc'].dropna().mean() )\n",
        "data['revol_util'] = data['revol_util'].fillna( data['revol_util'].dropna().mean())"
      ],
      "execution_count": null,
      "outputs": []
    },
    {
      "cell_type": "code",
      "metadata": {
        "colab": {
          "base_uri": "https://localhost:8080/"
        },
        "id": "V5kZNvuDaP5N",
        "outputId": "1549f5dd-321b-4b45-f4cf-922700fdfa5f"
      },
      "source": [
        "print(data.columns)"
      ],
      "execution_count": null,
      "outputs": [
        {
          "output_type": "stream",
          "text": [
            "Index(['loan_amnt', 'term', 'int_rate', 'sub_grade', 'home_ownership',\n",
            "       'verification_status', 'purpose', 'addr_state', 'dti', 'open_acc',\n",
            "       'pub_rec', 'revol_util', 'total_acc', 'initial_list_status',\n",
            "       'application_type', 'log_annual_inc', 'log_revol_bal'],\n",
            "      dtype='object')\n"
          ],
          "name": "stdout"
        }
      ]
    },
    {
      "cell_type": "code",
      "metadata": {
        "id": "AKlTbQtGabYv"
      },
      "source": [
        "data = pd.get_dummies(data, columns=['sub_grade', 'home_ownership', 'verification_status', 'purpose', 'addr_state', 'initial_list_status', 'application_type'], drop_first=True)"
      ],
      "execution_count": null,
      "outputs": []
    },
    {
      "cell_type": "code",
      "metadata": {
        "colab": {
          "base_uri": "https://localhost:8080/"
        },
        "id": "UWvSkXKaaiqC",
        "outputId": "73cfa442-cfbb-4019-b773-2391b9f254dc"
      },
      "source": [
        "data.shape"
      ],
      "execution_count": null,
      "outputs": [
        {
          "output_type": "execute_result",
          "data": {
            "text/plain": [
              "(887379, 114)"
            ]
          },
          "metadata": {
            "tags": []
          },
          "execution_count": 83
        }
      ]
    },
    {
      "cell_type": "code",
      "metadata": {
        "colab": {
          "base_uri": "https://localhost:8080/",
          "height": 253
        },
        "id": "W2oT4k6pak2h",
        "outputId": "87d05d86-75fd-4580-e2e7-0479a1fb02fb"
      },
      "source": [
        "data.head()"
      ],
      "execution_count": null,
      "outputs": [
        {
          "output_type": "execute_result",
          "data": {
            "text/html": [
              "<div>\n",
              "<style scoped>\n",
              "    .dataframe tbody tr th:only-of-type {\n",
              "        vertical-align: middle;\n",
              "    }\n",
              "\n",
              "    .dataframe tbody tr th {\n",
              "        vertical-align: top;\n",
              "    }\n",
              "\n",
              "    .dataframe thead th {\n",
              "        text-align: right;\n",
              "    }\n",
              "</style>\n",
              "<table border=\"1\" class=\"dataframe\">\n",
              "  <thead>\n",
              "    <tr style=\"text-align: right;\">\n",
              "      <th></th>\n",
              "      <th>loan_amnt</th>\n",
              "      <th>term</th>\n",
              "      <th>int_rate</th>\n",
              "      <th>dti</th>\n",
              "      <th>open_acc</th>\n",
              "      <th>pub_rec</th>\n",
              "      <th>revol_util</th>\n",
              "      <th>total_acc</th>\n",
              "      <th>log_annual_inc</th>\n",
              "      <th>log_revol_bal</th>\n",
              "      <th>sub_grade_A2</th>\n",
              "      <th>sub_grade_A3</th>\n",
              "      <th>sub_grade_A4</th>\n",
              "      <th>sub_grade_A5</th>\n",
              "      <th>sub_grade_B1</th>\n",
              "      <th>sub_grade_B2</th>\n",
              "      <th>sub_grade_B3</th>\n",
              "      <th>sub_grade_B4</th>\n",
              "      <th>sub_grade_B5</th>\n",
              "      <th>sub_grade_C1</th>\n",
              "      <th>sub_grade_C2</th>\n",
              "      <th>sub_grade_C3</th>\n",
              "      <th>sub_grade_C4</th>\n",
              "      <th>sub_grade_C5</th>\n",
              "      <th>sub_grade_D1</th>\n",
              "      <th>sub_grade_D2</th>\n",
              "      <th>sub_grade_D3</th>\n",
              "      <th>sub_grade_D4</th>\n",
              "      <th>sub_grade_D5</th>\n",
              "      <th>sub_grade_E1</th>\n",
              "      <th>sub_grade_E2</th>\n",
              "      <th>sub_grade_E3</th>\n",
              "      <th>sub_grade_E4</th>\n",
              "      <th>sub_grade_E5</th>\n",
              "      <th>sub_grade_F1</th>\n",
              "      <th>sub_grade_F2</th>\n",
              "      <th>sub_grade_F3</th>\n",
              "      <th>sub_grade_F4</th>\n",
              "      <th>sub_grade_F5</th>\n",
              "      <th>sub_grade_G1</th>\n",
              "      <th>...</th>\n",
              "      <th>addr_state_ID</th>\n",
              "      <th>addr_state_IL</th>\n",
              "      <th>addr_state_IN</th>\n",
              "      <th>addr_state_KS</th>\n",
              "      <th>addr_state_KY</th>\n",
              "      <th>addr_state_LA</th>\n",
              "      <th>addr_state_MA</th>\n",
              "      <th>addr_state_MD</th>\n",
              "      <th>addr_state_ME</th>\n",
              "      <th>addr_state_MI</th>\n",
              "      <th>addr_state_MN</th>\n",
              "      <th>addr_state_MO</th>\n",
              "      <th>addr_state_MS</th>\n",
              "      <th>addr_state_MT</th>\n",
              "      <th>addr_state_NC</th>\n",
              "      <th>addr_state_ND</th>\n",
              "      <th>addr_state_NE</th>\n",
              "      <th>addr_state_NH</th>\n",
              "      <th>addr_state_NJ</th>\n",
              "      <th>addr_state_NM</th>\n",
              "      <th>addr_state_NV</th>\n",
              "      <th>addr_state_NY</th>\n",
              "      <th>addr_state_OH</th>\n",
              "      <th>addr_state_OK</th>\n",
              "      <th>addr_state_OR</th>\n",
              "      <th>addr_state_PA</th>\n",
              "      <th>addr_state_RI</th>\n",
              "      <th>addr_state_SC</th>\n",
              "      <th>addr_state_SD</th>\n",
              "      <th>addr_state_TN</th>\n",
              "      <th>addr_state_TX</th>\n",
              "      <th>addr_state_UT</th>\n",
              "      <th>addr_state_VA</th>\n",
              "      <th>addr_state_VT</th>\n",
              "      <th>addr_state_WA</th>\n",
              "      <th>addr_state_WI</th>\n",
              "      <th>addr_state_WV</th>\n",
              "      <th>addr_state_WY</th>\n",
              "      <th>initial_list_status_w</th>\n",
              "      <th>application_type_JOINT</th>\n",
              "    </tr>\n",
              "  </thead>\n",
              "  <tbody>\n",
              "    <tr>\n",
              "      <th>0</th>\n",
              "      <td>14350</td>\n",
              "      <td>36</td>\n",
              "      <td>19.19</td>\n",
              "      <td>33.88</td>\n",
              "      <td>14.0</td>\n",
              "      <td>1.0</td>\n",
              "      <td>73.1</td>\n",
              "      <td>28.0</td>\n",
              "      <td>4.457897</td>\n",
              "      <td>4.352491</td>\n",
              "      <td>0</td>\n",
              "      <td>0</td>\n",
              "      <td>0</td>\n",
              "      <td>0</td>\n",
              "      <td>0</td>\n",
              "      <td>0</td>\n",
              "      <td>0</td>\n",
              "      <td>0</td>\n",
              "      <td>0</td>\n",
              "      <td>0</td>\n",
              "      <td>0</td>\n",
              "      <td>0</td>\n",
              "      <td>0</td>\n",
              "      <td>0</td>\n",
              "      <td>0</td>\n",
              "      <td>0</td>\n",
              "      <td>0</td>\n",
              "      <td>0</td>\n",
              "      <td>0</td>\n",
              "      <td>0</td>\n",
              "      <td>0</td>\n",
              "      <td>1</td>\n",
              "      <td>0</td>\n",
              "      <td>0</td>\n",
              "      <td>0</td>\n",
              "      <td>0</td>\n",
              "      <td>0</td>\n",
              "      <td>0</td>\n",
              "      <td>0</td>\n",
              "      <td>0</td>\n",
              "      <td>...</td>\n",
              "      <td>0</td>\n",
              "      <td>0</td>\n",
              "      <td>0</td>\n",
              "      <td>0</td>\n",
              "      <td>0</td>\n",
              "      <td>0</td>\n",
              "      <td>0</td>\n",
              "      <td>0</td>\n",
              "      <td>0</td>\n",
              "      <td>0</td>\n",
              "      <td>0</td>\n",
              "      <td>0</td>\n",
              "      <td>0</td>\n",
              "      <td>0</td>\n",
              "      <td>0</td>\n",
              "      <td>0</td>\n",
              "      <td>0</td>\n",
              "      <td>0</td>\n",
              "      <td>0</td>\n",
              "      <td>0</td>\n",
              "      <td>0</td>\n",
              "      <td>0</td>\n",
              "      <td>0</td>\n",
              "      <td>0</td>\n",
              "      <td>0</td>\n",
              "      <td>0</td>\n",
              "      <td>0</td>\n",
              "      <td>0</td>\n",
              "      <td>0</td>\n",
              "      <td>0</td>\n",
              "      <td>0</td>\n",
              "      <td>0</td>\n",
              "      <td>0</td>\n",
              "      <td>0</td>\n",
              "      <td>0</td>\n",
              "      <td>0</td>\n",
              "      <td>0</td>\n",
              "      <td>0</td>\n",
              "      <td>0</td>\n",
              "      <td>0</td>\n",
              "    </tr>\n",
              "    <tr>\n",
              "      <th>1</th>\n",
              "      <td>4800</td>\n",
              "      <td>36</td>\n",
              "      <td>10.99</td>\n",
              "      <td>3.64</td>\n",
              "      <td>6.0</td>\n",
              "      <td>0.0</td>\n",
              "      <td>23.2</td>\n",
              "      <td>13.0</td>\n",
              "      <td>4.812920</td>\n",
              "      <td>3.882240</td>\n",
              "      <td>0</td>\n",
              "      <td>0</td>\n",
              "      <td>0</td>\n",
              "      <td>0</td>\n",
              "      <td>0</td>\n",
              "      <td>0</td>\n",
              "      <td>0</td>\n",
              "      <td>1</td>\n",
              "      <td>0</td>\n",
              "      <td>0</td>\n",
              "      <td>0</td>\n",
              "      <td>0</td>\n",
              "      <td>0</td>\n",
              "      <td>0</td>\n",
              "      <td>0</td>\n",
              "      <td>0</td>\n",
              "      <td>0</td>\n",
              "      <td>0</td>\n",
              "      <td>0</td>\n",
              "      <td>0</td>\n",
              "      <td>0</td>\n",
              "      <td>0</td>\n",
              "      <td>0</td>\n",
              "      <td>0</td>\n",
              "      <td>0</td>\n",
              "      <td>0</td>\n",
              "      <td>0</td>\n",
              "      <td>0</td>\n",
              "      <td>0</td>\n",
              "      <td>0</td>\n",
              "      <td>...</td>\n",
              "      <td>0</td>\n",
              "      <td>0</td>\n",
              "      <td>0</td>\n",
              "      <td>0</td>\n",
              "      <td>0</td>\n",
              "      <td>0</td>\n",
              "      <td>0</td>\n",
              "      <td>1</td>\n",
              "      <td>0</td>\n",
              "      <td>0</td>\n",
              "      <td>0</td>\n",
              "      <td>0</td>\n",
              "      <td>0</td>\n",
              "      <td>0</td>\n",
              "      <td>0</td>\n",
              "      <td>0</td>\n",
              "      <td>0</td>\n",
              "      <td>0</td>\n",
              "      <td>0</td>\n",
              "      <td>0</td>\n",
              "      <td>0</td>\n",
              "      <td>0</td>\n",
              "      <td>0</td>\n",
              "      <td>0</td>\n",
              "      <td>0</td>\n",
              "      <td>0</td>\n",
              "      <td>0</td>\n",
              "      <td>0</td>\n",
              "      <td>0</td>\n",
              "      <td>0</td>\n",
              "      <td>0</td>\n",
              "      <td>0</td>\n",
              "      <td>0</td>\n",
              "      <td>0</td>\n",
              "      <td>0</td>\n",
              "      <td>0</td>\n",
              "      <td>0</td>\n",
              "      <td>0</td>\n",
              "      <td>1</td>\n",
              "      <td>0</td>\n",
              "    </tr>\n",
              "    <tr>\n",
              "      <th>2</th>\n",
              "      <td>10000</td>\n",
              "      <td>36</td>\n",
              "      <td>7.26</td>\n",
              "      <td>18.42</td>\n",
              "      <td>5.0</td>\n",
              "      <td>0.0</td>\n",
              "      <td>31.2</td>\n",
              "      <td>19.0</td>\n",
              "      <td>4.653222</td>\n",
              "      <td>4.036549</td>\n",
              "      <td>0</td>\n",
              "      <td>0</td>\n",
              "      <td>1</td>\n",
              "      <td>0</td>\n",
              "      <td>0</td>\n",
              "      <td>0</td>\n",
              "      <td>0</td>\n",
              "      <td>0</td>\n",
              "      <td>0</td>\n",
              "      <td>0</td>\n",
              "      <td>0</td>\n",
              "      <td>0</td>\n",
              "      <td>0</td>\n",
              "      <td>0</td>\n",
              "      <td>0</td>\n",
              "      <td>0</td>\n",
              "      <td>0</td>\n",
              "      <td>0</td>\n",
              "      <td>0</td>\n",
              "      <td>0</td>\n",
              "      <td>0</td>\n",
              "      <td>0</td>\n",
              "      <td>0</td>\n",
              "      <td>0</td>\n",
              "      <td>0</td>\n",
              "      <td>0</td>\n",
              "      <td>0</td>\n",
              "      <td>0</td>\n",
              "      <td>0</td>\n",
              "      <td>0</td>\n",
              "      <td>...</td>\n",
              "      <td>0</td>\n",
              "      <td>0</td>\n",
              "      <td>0</td>\n",
              "      <td>0</td>\n",
              "      <td>0</td>\n",
              "      <td>0</td>\n",
              "      <td>0</td>\n",
              "      <td>0</td>\n",
              "      <td>0</td>\n",
              "      <td>0</td>\n",
              "      <td>0</td>\n",
              "      <td>0</td>\n",
              "      <td>0</td>\n",
              "      <td>0</td>\n",
              "      <td>0</td>\n",
              "      <td>0</td>\n",
              "      <td>0</td>\n",
              "      <td>0</td>\n",
              "      <td>0</td>\n",
              "      <td>0</td>\n",
              "      <td>0</td>\n",
              "      <td>0</td>\n",
              "      <td>1</td>\n",
              "      <td>0</td>\n",
              "      <td>0</td>\n",
              "      <td>0</td>\n",
              "      <td>0</td>\n",
              "      <td>0</td>\n",
              "      <td>0</td>\n",
              "      <td>0</td>\n",
              "      <td>0</td>\n",
              "      <td>0</td>\n",
              "      <td>0</td>\n",
              "      <td>0</td>\n",
              "      <td>0</td>\n",
              "      <td>0</td>\n",
              "      <td>0</td>\n",
              "      <td>0</td>\n",
              "      <td>1</td>\n",
              "      <td>0</td>\n",
              "    </tr>\n",
              "    <tr>\n",
              "      <th>3</th>\n",
              "      <td>15000</td>\n",
              "      <td>36</td>\n",
              "      <td>19.72</td>\n",
              "      <td>14.97</td>\n",
              "      <td>10.0</td>\n",
              "      <td>0.0</td>\n",
              "      <td>55.5</td>\n",
              "      <td>21.0</td>\n",
              "      <td>5.021193</td>\n",
              "      <td>4.137132</td>\n",
              "      <td>0</td>\n",
              "      <td>0</td>\n",
              "      <td>0</td>\n",
              "      <td>0</td>\n",
              "      <td>0</td>\n",
              "      <td>0</td>\n",
              "      <td>0</td>\n",
              "      <td>0</td>\n",
              "      <td>0</td>\n",
              "      <td>0</td>\n",
              "      <td>0</td>\n",
              "      <td>0</td>\n",
              "      <td>0</td>\n",
              "      <td>0</td>\n",
              "      <td>0</td>\n",
              "      <td>0</td>\n",
              "      <td>0</td>\n",
              "      <td>0</td>\n",
              "      <td>1</td>\n",
              "      <td>0</td>\n",
              "      <td>0</td>\n",
              "      <td>0</td>\n",
              "      <td>0</td>\n",
              "      <td>0</td>\n",
              "      <td>0</td>\n",
              "      <td>0</td>\n",
              "      <td>0</td>\n",
              "      <td>0</td>\n",
              "      <td>0</td>\n",
              "      <td>0</td>\n",
              "      <td>...</td>\n",
              "      <td>0</td>\n",
              "      <td>0</td>\n",
              "      <td>0</td>\n",
              "      <td>0</td>\n",
              "      <td>0</td>\n",
              "      <td>0</td>\n",
              "      <td>0</td>\n",
              "      <td>0</td>\n",
              "      <td>0</td>\n",
              "      <td>0</td>\n",
              "      <td>0</td>\n",
              "      <td>0</td>\n",
              "      <td>0</td>\n",
              "      <td>0</td>\n",
              "      <td>0</td>\n",
              "      <td>0</td>\n",
              "      <td>0</td>\n",
              "      <td>0</td>\n",
              "      <td>0</td>\n",
              "      <td>0</td>\n",
              "      <td>0</td>\n",
              "      <td>0</td>\n",
              "      <td>0</td>\n",
              "      <td>0</td>\n",
              "      <td>0</td>\n",
              "      <td>0</td>\n",
              "      <td>0</td>\n",
              "      <td>0</td>\n",
              "      <td>0</td>\n",
              "      <td>0</td>\n",
              "      <td>0</td>\n",
              "      <td>0</td>\n",
              "      <td>1</td>\n",
              "      <td>0</td>\n",
              "      <td>0</td>\n",
              "      <td>0</td>\n",
              "      <td>0</td>\n",
              "      <td>0</td>\n",
              "      <td>0</td>\n",
              "      <td>0</td>\n",
              "    </tr>\n",
              "    <tr>\n",
              "      <th>4</th>\n",
              "      <td>16000</td>\n",
              "      <td>36</td>\n",
              "      <td>10.64</td>\n",
              "      <td>20.16</td>\n",
              "      <td>11.0</td>\n",
              "      <td>0.0</td>\n",
              "      <td>76.2</td>\n",
              "      <td>27.0</td>\n",
              "      <td>4.716012</td>\n",
              "      <td>4.554320</td>\n",
              "      <td>0</td>\n",
              "      <td>0</td>\n",
              "      <td>0</td>\n",
              "      <td>0</td>\n",
              "      <td>0</td>\n",
              "      <td>1</td>\n",
              "      <td>0</td>\n",
              "      <td>0</td>\n",
              "      <td>0</td>\n",
              "      <td>0</td>\n",
              "      <td>0</td>\n",
              "      <td>0</td>\n",
              "      <td>0</td>\n",
              "      <td>0</td>\n",
              "      <td>0</td>\n",
              "      <td>0</td>\n",
              "      <td>0</td>\n",
              "      <td>0</td>\n",
              "      <td>0</td>\n",
              "      <td>0</td>\n",
              "      <td>0</td>\n",
              "      <td>0</td>\n",
              "      <td>0</td>\n",
              "      <td>0</td>\n",
              "      <td>0</td>\n",
              "      <td>0</td>\n",
              "      <td>0</td>\n",
              "      <td>0</td>\n",
              "      <td>0</td>\n",
              "      <td>0</td>\n",
              "      <td>...</td>\n",
              "      <td>0</td>\n",
              "      <td>0</td>\n",
              "      <td>0</td>\n",
              "      <td>0</td>\n",
              "      <td>0</td>\n",
              "      <td>0</td>\n",
              "      <td>0</td>\n",
              "      <td>0</td>\n",
              "      <td>0</td>\n",
              "      <td>0</td>\n",
              "      <td>0</td>\n",
              "      <td>0</td>\n",
              "      <td>0</td>\n",
              "      <td>0</td>\n",
              "      <td>0</td>\n",
              "      <td>0</td>\n",
              "      <td>0</td>\n",
              "      <td>0</td>\n",
              "      <td>0</td>\n",
              "      <td>0</td>\n",
              "      <td>0</td>\n",
              "      <td>0</td>\n",
              "      <td>0</td>\n",
              "      <td>0</td>\n",
              "      <td>0</td>\n",
              "      <td>0</td>\n",
              "      <td>0</td>\n",
              "      <td>0</td>\n",
              "      <td>0</td>\n",
              "      <td>0</td>\n",
              "      <td>0</td>\n",
              "      <td>0</td>\n",
              "      <td>0</td>\n",
              "      <td>0</td>\n",
              "      <td>0</td>\n",
              "      <td>0</td>\n",
              "      <td>0</td>\n",
              "      <td>0</td>\n",
              "      <td>1</td>\n",
              "      <td>0</td>\n",
              "    </tr>\n",
              "  </tbody>\n",
              "</table>\n",
              "<p>5 rows × 114 columns</p>\n",
              "</div>"
            ],
            "text/plain": [
              "   loan_amnt  term  ...  initial_list_status_w  application_type_JOINT\n",
              "0      14350    36  ...                      0                       0\n",
              "1       4800    36  ...                      1                       0\n",
              "2      10000    36  ...                      1                       0\n",
              "3      15000    36  ...                      0                       0\n",
              "4      16000    36  ...                      1                       0\n",
              "\n",
              "[5 rows x 114 columns]"
            ]
          },
          "metadata": {
            "tags": []
          },
          "execution_count": 84
        }
      ]
    },
    {
      "cell_type": "code",
      "metadata": {
        "id": "3SHOeMOran0z"
      },
      "source": [
        "X_train=data.iloc[:532428,]\n",
        "y_train=loan_status\n",
        "test_X=data.iloc[532428:,]\n",
        "seed=7"
      ],
      "execution_count": null,
      "outputs": []
    },
    {
      "cell_type": "code",
      "metadata": {
        "colab": {
          "base_uri": "https://localhost:8080/"
        },
        "id": "w_PzmqKP4c7f",
        "outputId": "b0c22691-53e3-458c-d89c-3dd116d548b1"
      },
      "source": [
        "from imblearn.over_sampling import SMOTE"
      ],
      "execution_count": null,
      "outputs": [
        {
          "output_type": "stream",
          "text": [
            "/usr/local/lib/python3.6/dist-packages/sklearn/externals/six.py:31: FutureWarning: The module is deprecated in version 0.21 and will be removed in version 0.23 since we've dropped support for Python 2.7. Please rely on the official version of six (https://pypi.org/project/six/).\n",
            "  \"(https://pypi.org/project/six/).\", FutureWarning)\n",
            "/usr/local/lib/python3.6/dist-packages/sklearn/utils/deprecation.py:144: FutureWarning: The sklearn.neighbors.base module is  deprecated in version 0.22 and will be removed in version 0.24. The corresponding classes / functions should instead be imported from sklearn.neighbors. Anything that cannot be imported from sklearn.neighbors is now part of the private API.\n",
            "  warnings.warn(message, FutureWarning)\n"
          ],
          "name": "stderr"
        }
      ]
    },
    {
      "cell_type": "markdown",
      "metadata": {
        "id": "hwi1z4WP4xnn"
      },
      "source": [
        "SMOTE is python library which is used when the data is imbalanced"
      ]
    },
    {
      "cell_type": "code",
      "metadata": {
        "colab": {
          "base_uri": "https://localhost:8080/"
        },
        "id": "0XCaapa64z3Z",
        "outputId": "d913df5a-a143-4439-b4df-79f7a82ecf9a"
      },
      "source": [
        "smote=SMOTE()\n",
        "X_train_tf,y_train_tf=smote.fit_resample(X_train,y_train)\n"
      ],
      "execution_count": null,
      "outputs": [
        {
          "output_type": "stream",
          "text": [
            "/usr/local/lib/python3.6/dist-packages/sklearn/utils/deprecation.py:87: FutureWarning: Function safe_indexing is deprecated; safe_indexing is deprecated in version 0.22 and will be removed in version 0.24.\n",
            "  warnings.warn(msg, category=FutureWarning)\n"
          ],
          "name": "stderr"
        }
      ]
    },
    {
      "cell_type": "code",
      "metadata": {
        "id": "96-OmdcyA1H2"
      },
      "source": [
        "from sklearn import preprocessing"
      ],
      "execution_count": null,
      "outputs": []
    },
    {
      "cell_type": "code",
      "metadata": {
        "id": "V3tKmhYZA6Fx"
      },
      "source": [
        "# scaler = preprocessing.RobustScaler()\n",
        "# X_train_tf = scaler.fit_transform(X_train_tf)"
      ],
      "execution_count": null,
      "outputs": []
    },
    {
      "cell_type": "code",
      "metadata": {
        "id": "rgBADK3acdAr"
      },
      "source": [
        "from sklearn.model_selection import train_test_split\n",
        "X_train,X_test,y_train,y_test=train_test_split(X_train_tf,y_train_tf,random_state=seed)"
      ],
      "execution_count": null,
      "outputs": []
    },
    {
      "cell_type": "code",
      "metadata": {
        "id": "9HOmIc0wcgjP"
      },
      "source": [
        "\n",
        "from sklearn.linear_model import LogisticRegression\n",
        "from sklearn.tree import DecisionTreeClassifier\n",
        "from sklearn.svm import SVC\n",
        "from sklearn.neighbors import KNeighborsClassifier\n",
        "from sklearn.naive_bayes import GaussianNB\n",
        "from sklearn.metrics import roc_auc_score\n",
        "from sklearn.ensemble import RandomForestClassifier\n",
        "from xgboost import XGBClassifier\n",
        "from sklearn.ensemble import AdaBoostClassifier\n",
        "from sklearn.ensemble import GradientBoostingClassifier\n"
      ],
      "execution_count": null,
      "outputs": []
    },
    {
      "cell_type": "code",
      "metadata": {
        "id": "ncT6IteDxI39"
      },
      "source": [
        "# scaler = MinMaxScaler()\n",
        "\n",
        "# # fit and transfrom\n",
        "# X_train = scaler.fit_transform(X_train)\n",
        "# X_test = scaler.transform(X_test)\n",
        "\n",
        "# # everything has been scaled between 1 and 0\n",
        "# print('Max: ',X_train.max())\n",
        "# print('Min: ', X_train.min())  "
      ],
      "execution_count": null,
      "outputs": []
    },
    {
      "cell_type": "code",
      "metadata": {
        "id": "pqyqpvdIc42k"
      },
      "source": [
        "lr = LogisticRegression(C=5.0)\n",
        "knn = KNeighborsClassifier(weights='distance', algorithm='auto', n_neighbors=15)\n",
        "rfc = RandomForestClassifier(n_estimators=200,criterion='gini')\n",
        "dtc = DecisionTreeClassifier()\n",
        "xgb = XGBClassifier()\n",
        "ada = AdaBoostClassifier()\n",
        "gbc = GradientBoostingClassifier()"
      ],
      "execution_count": null,
      "outputs": []
    },
    {
      "cell_type": "code",
      "metadata": {
        "id": "_gBSNn5z0ejV"
      },
      "source": [
        "accuracy = {}\n",
        "roc_r = {}\n",
        "\n",
        "def train_model(model):\n",
        "    # Checking accuracy\n",
        "    model = model.fit(X_train, y_train)\n",
        "    pred = model.predict(X_test)\n",
        "    acc = accuracy_score(y_test, pred)*100\n",
        "    accuracy[model] = acc\n",
        "    print('accuracy_score',acc)\n",
        "    print('precision_score',precision_score(y_test, pred)*100)\n",
        "    print('recall_score',recall_score(y_test, pred)*100)\n",
        "    print('f1_score',f1_score(y_test, pred)*100)\n",
        "    roc_score = roc_auc_score(y_test, pred)*100\n",
        "    roc_r[model] = roc_score\n",
        "    print('roc_auc_score',roc_score)\n",
        "    # confusion matrix\n",
        "    print('confusion_matrix')\n",
        "    print(pd.DataFrame(confusion_matrix(y_test, pred)))\n",
        "    fpr, tpr, threshold = roc_curve(y_test, pred)\n",
        "    roc_auc = auc(fpr, tpr)*100\n",
        "\n",
        "    plt.title('Receiver Operating Characteristic')\n",
        "    plt.plot(fpr, tpr, 'b', label = 'AUC = %0.2f' % roc_auc)\n",
        "    plt.legend(loc = 'lower right')\n",
        "    plt.plot([0, 1], [0, 1],'r--')\n",
        "    plt.xlim([0, 1])\n",
        "    plt.ylim([0, 1])\n",
        "    plt.ylabel('True Positive Rate')\n",
        "    plt.xlabel('False Positive Rate')\n",
        "    plt.show()"
      ],
      "execution_count": null,
      "outputs": []
    },
    {
      "cell_type": "code",
      "metadata": {
        "colab": {
          "base_uri": "https://localhost:8080/",
          "height": 454
        },
        "id": "wwLyq62E1fZ-",
        "outputId": "f41172ba-d867-49ef-902d-eafff2a7cc50"
      },
      "source": [
        "train_model(knn)"
      ],
      "execution_count": null,
      "outputs": [
        {
          "output_type": "stream",
          "text": [
            "accuracy_score 72.9465177249497\n",
            "precision_score 66.69948260994538\n",
            "recall_score 91.46711602514831\n",
            "f1_score 77.14409195555149\n",
            "roc_auc_score 72.97789377168556\n",
            "confusion_matrix\n",
            "       0      1\n",
            "0  55482  46341\n",
            "1   8659  92819\n"
          ],
          "name": "stdout"
        },
        {
          "output_type": "display_data",
          "data": {
            "image/png": "[encoded data removed]",
            "text/plain": [
              "<Figure size 432x288 with 1 Axes>"
            ]
          },
          "metadata": {
            "tags": [],
            "needs_background": "light"
          }
        }
      ]
    },
    {
      "cell_type": "code",
      "metadata": {
        "colab": {
          "base_uri": "https://localhost:8080/",
          "height": 590
        },
        "id": "uqH6M4zO1gUi",
        "outputId": "5aa3f6dc-4600-4ca9-9406-9adb393e6fac"
      },
      "source": [
        "train_model(lr)"
      ],
      "execution_count": null,
      "outputs": [
        {
          "output_type": "stream",
          "text": [
            "/usr/local/lib/python3.6/dist-packages/sklearn/linear_model/_logistic.py:940: ConvergenceWarning: lbfgs failed to converge (status=1):\n",
            "STOP: TOTAL NO. of ITERATIONS REACHED LIMIT.\n",
            "\n",
            "Increase the number of iterations (max_iter) or scale the data as shown in:\n",
            "    https://scikit-learn.org/stable/modules/preprocessing.html\n",
            "Please also refer to the documentation for alternative solver options:\n",
            "    https://scikit-learn.org/stable/modules/linear_model.html#logistic-regression\n",
            "  extra_warning_msg=_LOGISTIC_SOLVER_CONVERGENCE_MSG)\n"
          ],
          "name": "stderr"
        },
        {
          "output_type": "stream",
          "text": [
            "accuracy_score 59.657847231445004\n",
            "precision_score 60.18142629948942\n",
            "recall_score 56.681251108614674\n",
            "f1_score 58.37892151389975\n",
            "roc_auc_score 59.652804531552164\n",
            "confusion_matrix\n",
            "       0      1\n",
            "0  63766  38057\n",
            "1  43959  57519\n"
          ],
          "name": "stdout"
        },
        {
          "output_type": "display_data",
          "data": {
            "image/png": "[encoded data removed]",
            "text/plain": [
              "<Figure size 432x288 with 1 Axes>"
            ]
          },
          "metadata": {
            "tags": [],
            "needs_background": "light"
          }
        }
      ]
    },
    {
      "cell_type": "code",
      "metadata": {
        "colab": {
          "base_uri": "https://localhost:8080/",
          "height": 454
        },
        "id": "R9vmgRhI1g6G",
        "outputId": "33e68834-edff-4cad-fff7-99bbf290a281"
      },
      "source": [
        "train_model(dtc)"
      ],
      "execution_count": null,
      "outputs": [
        {
          "output_type": "stream",
          "text": [
            "accuracy_score 81.38867983925313\n",
            "precision_score 81.04408737475732\n",
            "recall_score 81.86109304479788\n",
            "f1_score 81.45054147730893\n",
            "roc_auc_score 81.38948016214636\n",
            "confusion_matrix\n",
            "       0      1\n",
            "0  82393  19430\n",
            "1  18407  83071\n"
          ],
          "name": "stdout"
        },
        {
          "output_type": "display_data",
          "data": {
            "image/png": "[encoded data removed]",
            "text/plain": [
              "<Figure size 432x288 with 1 Axes>"
            ]
          },
          "metadata": {
            "tags": [],
            "needs_background": "light"
          }
        }
      ]
    },
    {
      "cell_type": "code",
      "metadata": {
        "colab": {
          "base_uri": "https://localhost:8080/",
          "height": 454
        },
        "id": "2i5TXGv91grs",
        "outputId": "3ac4073c-b6c8-4783-f0d0-0f090ec91dbd"
      },
      "source": [
        "train_model(rfc)"
      ],
      "execution_count": null,
      "outputs": [
        {
          "output_type": "stream",
          "text": [
            "accuracy_score 86.55491119079592\n",
            "precision_score 95.35577958304786\n",
            "recall_score 76.80482469106605\n",
            "f1_score 85.08083443404979\n",
            "roc_auc_score 86.53839341071476\n",
            "confusion_matrix\n",
            "       0      1\n",
            "0  98027   3796\n",
            "1  23538  77940\n"
          ],
          "name": "stdout"
        },
        {
          "output_type": "display_data",
          "data": {
            "image/png": "[encoded data removed]",
            "text/plain": [
              "<Figure size 432x288 with 1 Axes>"
            ]
          },
          "metadata": {
            "tags": [],
            "needs_background": "light"
          }
        }
      ]
    },
    {
      "cell_type": "code",
      "metadata": {
        "colab": {
          "base_uri": "https://localhost:8080/",
          "height": 454
        },
        "id": "FvhrEOOt1f6-",
        "outputId": "4ec7ce3c-7125-4a21-80b1-7dbae7b82629"
      },
      "source": [
        "train_model(xgb)"
      ],
      "execution_count": null,
      "outputs": [
        {
          "output_type": "stream",
          "text": [
            "accuracy_score 84.74921421931029\n",
            "precision_score 91.27068717131847\n",
            "recall_score 76.79102859733145\n",
            "f1_score 83.40709740603778\n",
            "roc_auc_score 84.73573212764346\n",
            "confusion_matrix\n",
            "       0      1\n",
            "0  94370   7453\n",
            "1  23552  77926\n"
          ],
          "name": "stdout"
        },
        {
          "output_type": "display_data",
          "data": {
            "image/png": "[encoded data removed]",
            "text/plain": [
              "<Figure size 432x288 with 1 Axes>"
            ]
          },
          "metadata": {
            "tags": [],
            "needs_background": "light"
          }
        }
      ]
    },
    {
      "cell_type": "code",
      "metadata": {
        "colab": {
          "base_uri": "https://localhost:8080/",
          "height": 454
        },
        "id": "nS6feHy-1fvt",
        "outputId": "57df6ab5-a8f7-42d5-cc4c-5919bee7197f"
      },
      "source": [
        "train_model(ada)"
      ],
      "execution_count": null,
      "outputs": [
        {
          "output_type": "stream",
          "text": [
            "accuracy_score 82.78119635417436\n",
            "precision_score 88.24978133775261\n",
            "recall_score 75.56514712548534\n",
            "f1_score 81.41636141636141\n",
            "roc_auc_score 82.76897152783896\n",
            "confusion_matrix\n",
            "       0      1\n",
            "0  91613  10210\n",
            "1  24796  76682\n"
          ],
          "name": "stdout"
        },
        {
          "output_type": "display_data",
          "data": {
            "image/png": "[encoded data removed]",
            "text/plain": [
              "<Figure size 432x288 with 1 Axes>"
            ]
          },
          "metadata": {
            "tags": [],
            "needs_background": "light"
          }
        }
      ]
    },
    {
      "cell_type": "code",
      "metadata": {
        "colab": {
          "base_uri": "https://localhost:8080/",
          "height": 454
        },
        "id": "H2JNOnB51e-7",
        "outputId": "bc6ef458-64b5-4217-8e72-0adb9dd658f5"
      },
      "source": [
        "train_model(gbc)"
      ],
      "execution_count": null,
      "outputs": [
        {
          "output_type": "stream",
          "text": [
            "accuracy_score 84.86579013384096\n",
            "precision_score 91.29581610484266\n",
            "recall_score 77.02359132028617\n",
            "f1_score 83.55461484189597\n",
            "roc_auc_score 84.85250453731229\n",
            "confusion_matrix\n",
            "       0      1\n",
            "0  94371   7452\n",
            "1  23316  78162\n"
          ],
          "name": "stdout"
        },
        {
          "output_type": "display_data",
          "data": {
            "image/png": "[encoded data removed]",
            "text/plain": [
              "<Figure size 432x288 with 1 Axes>"
            ]
          },
          "metadata": {
            "tags": [],
            "needs_background": "light"
          }
        }
      ]
    },
    {
      "cell_type": "code",
      "metadata": {
        "id": "p3_4n5cl7X2s",
        "colab": {
          "base_uri": "https://localhost:8080/",
          "height": 488
        },
        "outputId": "677b7abb-8ef3-4c44-f7e0-1ec20891e801"
      },
      "source": [
        "from sklearn.neural_network import MLPClassifier\n",
        "mlp = MLPClassifier()\n",
        "train_model(mlp)"
      ],
      "execution_count": null,
      "outputs": [
        {
          "output_type": "stream",
          "text": [
            "/usr/local/lib/python3.6/dist-packages/sklearn/neural_network/_multilayer_perceptron.py:573: UserWarning: Training interrupted by user.\n",
            "  warnings.warn(\"Training interrupted by user.\")\n"
          ],
          "name": "stderr"
        },
        {
          "output_type": "stream",
          "text": [
            "accuracy_score 67.87128445015027\n",
            "precision_score 63.41067216543785\n",
            "recall_score 84.2438755198171\n",
            "f1_score 72.35755154551917\n",
            "roc_auc_score 67.89902152290905\n",
            "confusion_matrix\n",
            "       0      1\n",
            "0  52494  49329\n",
            "1  15989  85489\n"
          ],
          "name": "stdout"
        },
        {
          "output_type": "display_data",
          "data": {
            "image/png": "[encoded data removed]",
            "text/plain": [
              "<Figure size 432x288 with 1 Axes>"
            ]
          },
          "metadata": {
            "tags": [],
            "needs_background": "light"
          }
        }
      ]
    },
    {
      "cell_type": "code",
      "metadata": {
        "id": "KpFmP2gf7Yje"
      },
      "source": [
        "# Predicted values\n",
        "y_head_lr = lr.predict(X_test)\n",
        "y_head_knn = knn.predict(X_test)\n",
        "y_head_xgb = xgb.predict(X_test)\n",
        "y_head_dtc = dtc.predict(X_test)\n",
        "y_head_rfc = rfc.predict(X_test)\n",
        "y_head_ada = ada.predict(X_test)\n",
        "y_head_gbc = gbc.predict(X_test)\n",
        "y_head_mlp = mlp.predict(X_test)"
      ],
      "execution_count": null,
      "outputs": []
    },
    {
      "cell_type": "code",
      "metadata": {
        "id": "rMkaTf7W7YF7"
      },
      "source": [
        "cm_lr = confusion_matrix(y_test,y_head_lr)\n",
        "cm_knn = confusion_matrix(y_test,y_head_knn)\n",
        "cm_xgb = confusion_matrix(y_test,y_head_xgb)\n",
        "cm_dtc = confusion_matrix(y_test,y_head_dtc)\n",
        "cm_rfc = confusion_matrix(y_test,y_head_rfc)\n",
        "\n",
        "\n",
        "cm_ada = confusion_matrix(y_test,y_head_ada)\n",
        "cm_gbc = confusion_matrix(y_test,y_head_gbc)\n",
        "# cm_mlp = confusion_matrix(y_test,y_head_mlp)"
      ],
      "execution_count": null,
      "outputs": []
    },
    {
      "cell_type": "code",
      "metadata": {
        "id": "0vGjOF3n7Xnc",
        "colab": {
          "base_uri": "https://localhost:8080/",
          "height": 557
        },
        "outputId": "aed2d182-378c-457b-be51-53a558df6976"
      },
      "source": [
        "plt.figure(figsize=(24,12))\n",
        "\n",
        "plt.suptitle(\"Confusion Matrixes\",fontsize=24)\n",
        "plt.subplots_adjust(wspace = 0.4, hspace= 0.4)\n",
        "\n",
        "plt.subplot(4,3,1)\n",
        "plt.title(\"Logistic Regression Confusion Matrix\")\n",
        "sns.heatmap(cm_lr,annot=True,cmap=\"Blues\",fmt=\"d\",cbar=False, annot_kws={\"size\": 24})\n",
        "\n",
        "plt.subplot(4,3,2)\n",
        "plt.title(\"K Nearest Neighbors Confusion Matrix\")\n",
        "sns.heatmap(cm_knn,annot=True,cmap=\"Blues\",fmt=\"d\",cbar=False, annot_kws={\"size\": 24})\n",
        "\n",
        "plt.subplot(4,3,3)\n",
        "plt.title(\"XGB Confusion Matrix\")\n",
        "sns.heatmap(cm_xgb,annot=True,cmap=\"Blues\",fmt=\"d\",cbar=False, annot_kws={\"size\": 24})\n",
        "\n",
        "plt.subplot(4,3,4)\n",
        "plt.title(\"Decision Tree Classifier Confusion Matrix\")\n",
        "sns.heatmap(cm_dtc,annot=True,cmap=\"Blues\",fmt=\"d\",cbar=False, annot_kws={\"size\": 24})\n",
        "\n",
        "plt.subplot(4,3,5)\n",
        "plt.title(\"Random Forest Gini Confusion Matrix\")\n",
        "sns.heatmap(cm_rfc,annot=True,cmap=\"Blues\",fmt=\"d\",cbar=False, annot_kws={\"size\": 24})\n",
        "\n",
        "plt.subplot(4,3,6)\n",
        "plt.title(\"Ada Boost Confusion Matrix\")\n",
        "sns.heatmap(cm_ada,annot=True,cmap=\"Blues\",fmt=\"d\",cbar=False, annot_kws={\"size\": 24})\n",
        "\n",
        "plt.subplot(4,3,7)\n",
        "plt.title(\"Gradient boost Classifier Confusion Matrix\")\n",
        "sns.heatmap(cm_gbc,annot=True,cmap=\"Blues\",fmt=\"d\",cbar=False, annot_kws={\"size\": 24})\n",
        "\n",
        "# plt.subplot(4,3,8)\n",
        "# plt.title(\"MLP CLassifier Confusion Matrix\")\n",
        "# sns.heatmap(cm_mlp,annot=True,cmap=\"Blues\",fmt=\"d\",cbar=False, annot_kws={\"size\": 24})\n",
        " \n",
        "\n",
        "plt.show()"
      ],
      "execution_count": null,
      "outputs": [
        {
          "output_type": "display_data",
          "data": {
            "image/png": "[encoded data removed]",
            "text/plain": [
              "<Figure size 1728x864 with 8 Axes>"
            ]
          },
          "metadata": {
            "tags": [],
            "needs_background": "light"
          }
        }
      ]
    },
    {
      "cell_type": "markdown",
      "metadata": {
        "id": "I8Q77lysu5Xh"
      },
      "source": [
        "After analysing all the model's. We will chose Random Forest Classifier as its giving Good Accuracy and ROC-AUC score compare to all other models\n"
      ]
    },
    {
      "cell_type": "code",
      "metadata": {
        "id": "MpP9FxeydKc_"
      },
      "source": [
        "# sns.set_style(\"whitegrid\")\n",
        "# plt.figure(figsize=(16,5))\n",
        "# plt.yticks(np.arange(0,100,10))\n",
        "# plt.ylabel(\"ROC_score %\")\n",
        "# plt.xlabel(\"Algorithms\")\n",
        "# plt.xticks(rotation = 90)\n",
        "# sns.barplot(x=list(roc_r.keys()), y=list(roc_r.values()))\n",
        "# plt.show()"
      ],
      "execution_count": null,
      "outputs": []
    },
    {
      "cell_type": "markdown",
      "metadata": {
        "id": "btfLgAJovTyh"
      },
      "source": [
        "**HyperParameter Tuning**\n",
        "\n"
      ]
    },
    {
      "cell_type": "code",
      "metadata": {
        "id": "SRiHf2QusQix"
      },
      "source": [
        "rfc = RandomForestClassifier(criterion = 'gini',\n",
        "            n_estimators = 200, max_depth = 30,  \n",
        "            min_samples_split = 2, \n",
        "            min_samples_leaf = 2)"
      ],
      "execution_count": null,
      "outputs": []
    },
    {
      "cell_type": "code",
      "metadata": {
        "id": "o-jqgez4wYo4",
        "colab": {
          "base_uri": "https://localhost:8080/"
        },
        "outputId": "4c49b9e7-8f12-4d24-8e1e-3bb2557a8284"
      },
      "source": [
        "rfc.fit(X_train,y_train)"
      ],
      "execution_count": null,
      "outputs": [
        {
          "output_type": "execute_result",
          "data": {
            "text/plain": [
              "RandomForestClassifier(bootstrap=True, ccp_alpha=0.0, class_weight=None,\n",
              "                       criterion='gini', max_depth=30, max_features='auto',\n",
              "                       max_leaf_nodes=None, max_samples=None,\n",
              "                       min_impurity_decrease=0.0, min_impurity_split=None,\n",
              "                       min_samples_leaf=2, min_samples_split=2,\n",
              "                       min_weight_fraction_leaf=0.0, n_estimators=200,\n",
              "                       n_jobs=None, oob_score=False, random_state=None,\n",
              "                       verbose=0, warm_start=False)"
            ]
          },
          "metadata": {
            "tags": []
          },
          "execution_count": 108
        }
      ]
    },
    {
      "cell_type": "markdown",
      "metadata": {
        "id": "5pGOOauov0Xl"
      },
      "source": [
        "Now train it with whole Traning dataset"
      ]
    },
    {
      "cell_type": "code",
      "metadata": {
        "id": "ggFG3bGrvcEz"
      },
      "source": [
        "output=rfc.predict(test_X)"
      ],
      "execution_count": null,
      "outputs": []
    },
    {
      "cell_type": "code",
      "metadata": {
        "id": "82l0-LlZwDRy"
      },
      "source": [
        "submit=pd.DataFrame({'member_id':test['member_id'],'loan_status':output})"
      ],
      "execution_count": null,
      "outputs": []
    },
    {
      "cell_type": "code",
      "metadata": {
        "id": "lSY8D67W-D2-"
      },
      "source": [
        "# submit['loan_status'].value_counts(normalize=True, dropna=False)"
      ],
      "execution_count": 122,
      "outputs": []
    },
    {
      "cell_type": "code",
      "metadata": {
        "id": "jrx2Gtumx6JE"
      },
      "source": [
        "# submit['loan_status'].value_counts(dropna=False)"
      ],
      "execution_count": 123,
      "outputs": []
    },
    {
      "cell_type": "code",
      "metadata": {
        "id": "cHfVNZEOyQq6"
      },
      "source": [
        "submission=submit.to_csv('/content/drive/MyDrive/Data Science/ML_Artivatic_dataset/submission.csv',index=False)"
      ],
      "execution_count": 119,
      "outputs": []
    },
    {
      "cell_type": "code",
      "metadata": {
        "id": "FdeC64SdJHgv"
      },
      "source": [
        ""
      ],
      "execution_count": null,
      "outputs": []
    }
  ]
}